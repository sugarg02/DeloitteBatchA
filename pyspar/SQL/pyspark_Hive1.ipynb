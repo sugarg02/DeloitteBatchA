{
 "cells": [
  {
   "cell_type": "markdown",
   "metadata": {},
   "source": [
    "Import and initiate findspark\n",
    "Then import pyspark"
   ]
  },
  {
   "cell_type": "code",
   "execution_count": null,
   "metadata": {},
   "outputs": [],
   "source": [
    "import findspark\n",
    "findspark.init(\"/usr/local/spark\")"
   ]
  },
  {
   "cell_type": "code",
   "execution_count": null,
   "metadata": {},
   "outputs": [],
   "source": [
    "import pyspark"
   ]
  },
  {
   "cell_type": "markdown",
   "metadata": {},
   "source": [
    "Instatiate SparkSession with Hive support"
   ]
  },
  {
   "cell_type": "code",
   "execution_count": null,
   "metadata": {},
   "outputs": [],
   "source": [
    "from pyspark.sql import SparkSession\n",
    "spark = SparkSession.builder.appName(\"Python Spark SQL example\") \\\n",
    "        .config(\"spark.sql.warehouse.dir\", \"hdfs://localhost:54310/user/hive/warehouse\") \\\n",
    "        .enableHiveSupport() \\\n",
    "        .getOrCreate()"
   ]
  },
  {
   "cell_type": "code",
   "execution_count": 45,
   "metadata": {},
   "outputs": [
    {
     "name": "stdout",
     "output_type": "stream",
     "text": [
      "+------------+\n",
      "|databaseName|\n",
      "+------------+\n",
      "|     default|\n",
      "|        nyse|\n",
      "|      nyse_1|\n",
      "|      office|\n",
      "|    retaildb|\n",
      "+------------+\n",
      "\n"
     ]
    }
   ],
   "source": [
    "spark.sql('show databases').show()"
   ]
  },
  {
   "cell_type": "code",
   "execution_count": 46,
   "metadata": {},
   "outputs": [
    {
     "data": {
      "text/plain": [
       "DataFrame[]"
      ]
     },
     "execution_count": 46,
     "metadata": {},
     "output_type": "execute_result"
    }
   ],
   "source": [
    "spark.sql(\"use retaildb\")"
   ]
  },
  {
   "cell_type": "code",
   "execution_count": 47,
   "metadata": {},
   "outputs": [
    {
     "name": "stdout",
     "output_type": "stream",
     "text": [
      "+------------+\n",
      "|databaseName|\n",
      "+------------+\n",
      "|     default|\n",
      "|        nyse|\n",
      "|      nyse_1|\n",
      "|      office|\n",
      "|    retaildb|\n",
      "+------------+\n",
      "\n"
     ]
    }
   ],
   "source": [
    "spark.sql('show databases').show()\n"
   ]
  },
  {
   "cell_type": "code",
   "execution_count": 48,
   "metadata": {},
   "outputs": [
    {
     "name": "stdout",
     "output_type": "stream",
     "text": [
      "+--------+---------+-----------+\n",
      "|database|tableName|isTemporary|\n",
      "+--------+---------+-----------+\n",
      "|retaildb| customer|      false|\n",
      "|retaildb|custstate|      false|\n",
      "|retaildb|  product|      false|\n",
      "+--------+---------+-----------+\n",
      "\n"
     ]
    }
   ],
   "source": [
    "spark.sql('show tables').show()"
   ]
  },
  {
   "cell_type": "code",
   "execution_count": 49,
   "metadata": {},
   "outputs": [
    {
     "name": "stdout",
     "output_type": "stream",
     "text": [
      "+-----+----------------+-------------+------+-----+\n",
      "|  cid|           cname|        ccity|cstate| czip|\n",
      "+-----+----------------+-------------+------+-----+\n",
      "|11039|     Mary Torres|       Caguas|    PR|  725|\n",
      "| 5623|      Jose Haley|     Columbus|    OH|43207|\n",
      "| 5829|      Mary Smith|      Houston|    TX|77015|\n",
      "| 6336|  Richard Maddox|       Caguas|    PR|  725|\n",
      "| 1708|  Margaret Booth|    Arlington|    TX|76010|\n",
      "|10227|  Mary Henderson|       Caguas|    PR|  725|\n",
      "|  839|     Lisa Walker|       Caguas|    PR|  725|\n",
      "| 7604|   Jonathan Hill|      Phoenix|    AZ|85040|\n",
      "| 6485|Carolyn Sheppard|Pompano Beach|    FL|33063|\n",
      "| 4737|    Mary Mendoza|       Caguas|    PR|  725|\n",
      "| 5973|   Michael Smith|       Caguas|    PR|  725|\n",
      "| 9205|    James Holmes|     Hilliard|    OH|43026|\n",
      "|  138|     Mary Dawson|       Caguas|    PR|  725|\n",
      "|  371|    Adam Marquez|  San Antonio|    TX|78223|\n",
      "| 9285|    Gloria Smith|       Caguas|    PR|  725|\n",
      "| 1209|       Mary Webb|   San Marcos|    TX|78666|\n",
      "| 3021|  Nancy Alvarado|     Flushing|    NY|11354|\n",
      "| 3354|  Russell Flores|       Caguas|    PR|  725|\n",
      "|11684|    Denise Smith|    Rego Park|    NY|11374|\n",
      "|11144|  Jose Dickerson|         Mesa|    AZ|85201|\n",
      "+-----+----------------+-------------+------+-----+\n",
      "only showing top 20 rows\n",
      "\n"
     ]
    }
   ],
   "source": [
    "spark.sql('select * from customer').show()"
   ]
  },
  {
   "cell_type": "code",
   "execution_count": 50,
   "metadata": {},
   "outputs": [
    {
     "name": "stdout",
     "output_type": "stream",
     "text": [
      "+------+--------------------+------------------+------+------+------+-----+\n",
      "|   pid|               pname|         pcategory|pcatid|pprice|pquant|  cid|\n",
      "+------+--------------------+------------------+------+------+------+-----+\n",
      "| 98660|O'Brien Men's Neo...|           Fishing|    45| 49.98|     2|12080|\n",
      "| 97749|O'Brien Men's Neo...|           Fishing|    45| 49.98|     2|12279|\n",
      "|103889|Under Armour Wome...|      Boxing & MMA|    12| 31.99|     4| 3343|\n",
      "| 22751|O'Brien Men's Neo...|           Fishing|    45| 49.98|     5|12382|\n",
      "|129001|Pelican Sunstream...|           Boating|    47|199.99|     1| 5032|\n",
      "|165110|Nike Men's CJ Eli...|            Cleats|    17|129.99|     1| 2663|\n",
      "|140220|Diamondback Women...| Bike & Skate Shop|    42|299.98|     1|  702|\n",
      "| 77426|Field & Stream Sp...|Hunting & Shooting|    44|399.98|     1| 3959|\n",
      "|101870|Perfect Fitness P...|   As Seen on  TV!|    16| 59.99|     4| 1836|\n",
      "|131685|Nike Men's CJ Eli...|            Cleats|    17|129.99|     1| 5212|\n",
      "|164177|Pelican Sunstream...|           Boating|    47|199.99|     1| 4037|\n",
      "| 78983|Nike Men's CJ Eli...|            Cleats|    17|129.99|     1| 7528|\n",
      "| 84894|Diamondback Women...| Bike & Skate Shop|    42|299.98|     1| 5658|\n",
      "|170683|Nike Men's CJ Eli...|            Cleats|    17|129.99|     1| 6888|\n",
      "| 22083|Nike Men's Dri-FI...|     Men's Apparel|    23|  50.0|     3| 7946|\n",
      "| 76014|O'Brien Men's Neo...|           Fishing|    45| 49.98|     1|10667|\n",
      "| 79165|O'Brien Men's Neo...|           Fishing|    45| 49.98|     5| 9976|\n",
      "| 44574|Nike Men's Dri-FI...|     Men's Apparel|    23|  50.0|     1| 4798|\n",
      "|102807|Diamondback Women...| Bike & Skate Shop|    42|299.98|     1| 9356|\n",
      "|125420|Under Armour Girl...|        Top Brands|    28| 39.99|     1| 8284|\n",
      "+------+--------------------+------------------+------+------+------+-----+\n",
      "only showing top 20 rows\n",
      "\n"
     ]
    }
   ],
   "source": [
    "spark.sql('select * from product').show()"
   ]
  },
  {
   "cell_type": "code",
   "execution_count": 51,
   "metadata": {},
   "outputs": [],
   "source": [
    "custstate= spark.sql (\" select cstate, count(*) as statecount from customer group by cstate having statecount>=10\")"
   ]
  },
  {
   "cell_type": "code",
   "execution_count": 52,
   "metadata": {},
   "outputs": [
    {
     "name": "stdout",
     "output_type": "stream",
     "text": [
      "+------+----------+\n",
      "|cstate|statecount|\n",
      "+------+----------+\n",
      "|    AZ|        19|\n",
      "|    NJ|        19|\n",
      "|    VA|        14|\n",
      "|    MI|        28|\n",
      "|    NV|        16|\n",
      "|    CA|       187|\n",
      "|    NC|        19|\n",
      "|    MD|        19|\n",
      "|    MO|        13|\n",
      "|    IL|        40|\n",
      "|    OH|        29|\n",
      "|    TN|        12|\n",
      "|    PA|        28|\n",
      "|    NY|        79|\n",
      "|    TX|        62|\n",
      "|    GA|        14|\n",
      "|    MA|        12|\n",
      "|    FL|        32|\n",
      "|    CO|        12|\n",
      "|    PR|       505|\n",
      "+------+----------+\n",
      "only showing top 20 rows\n",
      "\n"
     ]
    }
   ],
   "source": [
    "custstate.show()"
   ]
  },
  {
   "cell_type": "code",
   "execution_count": 53,
   "metadata": {},
   "outputs": [],
   "source": [
    "prd = spark.sql(\"SELECT cid, pcategory, count(*) as prdcount FROM product WHERE pprice>20.0 GROUP BY cid, pcategory order by pcategory \")"
   ]
  },
  {
   "cell_type": "code",
   "execution_count": 54,
   "metadata": {},
   "outputs": [
    {
     "name": "stdout",
     "output_type": "stream",
     "text": [
      "+-----+-----------+--------+\n",
      "|  cid|  pcategory|prdcount|\n",
      "+-----+-----------+--------+\n",
      "| 1987|Accessories|       1|\n",
      "| 1615|Accessories|       1|\n",
      "| 1398|Accessories|       1|\n",
      "| 3692|Accessories|       1|\n",
      "|  869|Accessories|       1|\n",
      "| 4585|Accessories|       1|\n",
      "| 9653|Accessories|       1|\n",
      "| 5190|Accessories|       1|\n",
      "| 4995|Accessories|       1|\n",
      "| 8722|Accessories|       1|\n",
      "|10887|Accessories|       1|\n",
      "|  517|Accessories|       1|\n",
      "| 8930|Accessories|       1|\n",
      "| 3159|Accessories|       1|\n",
      "|10735|Accessories|       1|\n",
      "| 3614|Accessories|       1|\n",
      "| 1532|Accessories|       1|\n",
      "|11745|Accessories|       1|\n",
      "|  494|Accessories|       1|\n",
      "| 5337|Accessories|       1|\n",
      "+-----+-----------+--------+\n",
      "only showing top 20 rows\n",
      "\n"
     ]
    }
   ],
   "source": [
    "prd.show()"
   ]
  },
  {
   "cell_type": "markdown",
   "metadata": {},
   "source": [
    "Get the list of customers and product categories in which they bought multiple items (quantity) that are more expensive than 200.00 \n",
    "cname pcategory                 prdcount \n",
    "David Smith Hunting & Shooting  2\n"
   ]
  },
  {
   "cell_type": "code",
   "execution_count": 55,
   "metadata": {},
   "outputs": [],
   "source": [
    "custlist = spark.sql(\"SELECT a.cname, b.pcategory, count(*) as prdcount FROM customer a INNER JOIN product b ON a.cid=b.cid WHERE b.pprice>200.00 GROUP BY a.cname, b.pcategory HAVING prdcount>20\")"
   ]
  },
  {
   "cell_type": "code",
   "execution_count": 56,
   "metadata": {},
   "outputs": [
    {
     "name": "stdout",
     "output_type": "stream",
     "text": [
      "+----------+------------------+--------+\n",
      "|     cname|         pcategory|prdcount|\n",
      "+----------+------------------+--------+\n",
      "|Mary Smith| Bike & Skate Shop|      22|\n",
      "|Mary Smith|Hunting & Shooting|      24|\n",
      "+----------+------------------+--------+\n",
      "\n"
     ]
    }
   ],
   "source": [
    "custlist.show()"
   ]
  },
  {
   "cell_type": "markdown",
   "metadata": {},
   "source": [
    "These dataframes can be written to Hive tables after creating a new database. The following lines show the syntax. Plesae note that the Hive metastore version should be compatible with the Spark version to be able to create databases and tables in Hive."
   ]
  },
  {
   "cell_type": "code",
   "execution_count": 58,
   "metadata": {},
   "outputs": [],
   "source": [
    "custstate.coalesce(1).write.saveAsTable(\"retaildb.custstate1\")"
   ]
  },
  {
   "cell_type": "code",
   "execution_count": 60,
   "metadata": {},
   "outputs": [
    {
     "name": "stdout",
     "output_type": "stream",
     "text": [
      "+--------+----------+-----------+\n",
      "|database| tableName|isTemporary|\n",
      "+--------+----------+-----------+\n",
      "|retaildb|  customer|      false|\n",
      "|retaildb| custstate|      false|\n",
      "|retaildb|custstate1|      false|\n",
      "|retaildb|   product|      false|\n",
      "+--------+----------+-----------+\n",
      "\n"
     ]
    }
   ],
   "source": [
    "spark.sql(\"show tables\").show()"
   ]
  },
  {
   "cell_type": "code",
   "execution_count": 59,
   "metadata": {},
   "outputs": [
    {
     "name": "stdout",
     "output_type": "stream",
     "text": [
      "+------+----------+\n",
      "|cstate|statecount|\n",
      "+------+----------+\n",
      "|    AZ|        19|\n",
      "|    NJ|        19|\n",
      "|    VA|        14|\n",
      "|    MI|        28|\n",
      "|    NV|        16|\n",
      "|    CA|       187|\n",
      "|    NC|        19|\n",
      "|    MD|        19|\n",
      "|    MO|        13|\n",
      "|    IL|        40|\n",
      "|    OH|        29|\n",
      "|    TN|        12|\n",
      "|    PA|        28|\n",
      "|    NY|        79|\n",
      "|    TX|        62|\n",
      "|    GA|        14|\n",
      "|    MA|        12|\n",
      "|    FL|        32|\n",
      "|    CO|        12|\n",
      "|    PR|       505|\n",
      "+------+----------+\n",
      "only showing top 20 rows\n",
      "\n"
     ]
    }
   ],
   "source": [
    "spark.sql(\"select * from custstate1\").show()"
   ]
  },
  {
   "cell_type": "markdown",
   "metadata": {},
   "source": [
    "spark.sql(\"CREATE DATABASE IF NOT EXISTS retaildb\")"
   ]
  },
  {
   "cell_type": "markdown",
   "metadata": {},
   "source": [
    "cStateCount50.coalesce(1).write.saveAsTable(\"retaildb.cStateCount50\")"
   ]
  },
  {
   "cell_type": "markdown",
   "metadata": {},
   "source": [
    "prd200.coalesce(1).write.saveAsTable(\"retaildb.prd200\")"
   ]
  }
 ],
 "metadata": {
  "kernelspec": {
   "display_name": "Python 3",
   "language": "python",
   "name": "python3"
  },
  "language_info": {
   "codemirror_mode": {
    "name": "ipython",
    "version": 3
   },
   "file_extension": ".py",
   "mimetype": "text/x-python",
   "name": "python",
   "nbconvert_exporter": "python",
   "pygments_lexer": "ipython3",
   "version": "3.5.2"
  }
 },
 "nbformat": 4,
 "nbformat_minor": 2
}
