{
  "nbformat": 4,
  "nbformat_minor": 0,
  "metadata": {
    "colab": {
      "name": "Simple Linear Regression2.ipynb",
      "provenance": []
    },
    "kernelspec": {
      "name": "python3",
      "display_name": "Python 3"
    },
    "language_info": {
      "name": "python"
    }
  },
  "cells": [
    {
      "cell_type": "code",
      "execution_count": null,
      "metadata": {
        "id": "pBpE0PiEFv_f"
      },
      "outputs": [],
      "source": [
        "import numpy as np\n",
        "import pandas as pd\n",
        "import matplotlib.pyplot as plt"
      ]
    },
    {
      "cell_type": "code",
      "source": [
        "dataset=pd.read_csv(\"Advertising.csv\")\n"
      ],
      "metadata": {
        "id": "ljTiY02cGduz"
      },
      "execution_count": null,
      "outputs": []
    },
    {
      "cell_type": "code",
      "source": [
        "dataset.head()"
      ],
      "metadata": {
        "id": "UhT0uTWkGln2"
      },
      "execution_count": null,
      "outputs": []
    },
    {
      "cell_type": "markdown",
      "source": [
        "##Visualization"
      ],
      "metadata": {
        "id": "XOLtlu7FHtZK"
      }
    },
    {
      "cell_type": "code",
      "source": [
        "import seaborn as sns"
      ],
      "metadata": {
        "id": "yssoTh_ZHyWd"
      },
      "execution_count": null,
      "outputs": []
    },
    {
      "cell_type": "code",
      "source": [
        "sns.pairplot(dataset,x_vars=['TV', 'Radio', 'Newspaper'], y_vars='Sales', size=4, kind='scatter')"
      ],
      "metadata": {
        "id": "EgD1L17nJh4l"
      },
      "execution_count": null,
      "outputs": []
    },
    {
      "cell_type": "code",
      "source": [
        "#To plot heatmap to find out correlations\n",
        "sns.heatmap(dataset.corr(), annot= True)"
      ],
      "metadata": {
        "id": "UvOI30CCKYdQ"
      },
      "execution_count": null,
      "outputs": []
    },
    {
      "cell_type": "code",
      "source": [
        "X=dataset['TV']\n",
        "y=dataset['Sales']"
      ],
      "metadata": {
        "id": "kGOTFt7vLzwH"
      },
      "execution_count": null,
      "outputs": []
    },
    {
      "cell_type": "markdown",
      "source": [
        "Splitting the dataset into the Training set and Test set"
      ],
      "metadata": {
        "id": "7xzCgNZUMXAV"
      }
    },
    {
      "cell_type": "code",
      "source": [
        "from sklearn.model_selection import train_test_split\n",
        "X_train, X_test, y_train, y_test = train_test_split( X, y, train_size = 0.7, test_size = 0.3, random_state = 100 )"
      ],
      "metadata": {
        "id": "aYIKr9FQg5fp"
      },
      "execution_count": null,
      "outputs": []
    },
    {
      "cell_type": "markdown",
      "source": [
        "Training the Simple Linear Regression model on the Training set"
      ],
      "metadata": {
        "id": "iETjvZ07MYKC"
      }
    },
    {
      "cell_type": "markdown",
      "source": [
        "Predicting the Test set results"
      ],
      "metadata": {
        "id": "YoRzDzWIMbdE"
      }
    },
    {
      "cell_type": "markdown",
      "source": [
        "Visualisation"
      ],
      "metadata": {
        "id": "LtfB7RXwMe_O"
      }
    },
    {
      "cell_type": "markdown",
      "source": [
        "Making a single prediction"
      ],
      "metadata": {
        "id": "Jfc2_8-OMhJb"
      }
    },
    {
      "cell_type": "markdown",
      "source": [
        "Getting the final linear regression equation with the values of the coefficients"
      ],
      "metadata": {
        "id": "MX3N-TAaMkl8"
      }
    },
    {
      "cell_type": "markdown",
      "source": [
        "RMSE value\n",
        "\n",
        "R2score"
      ],
      "metadata": {
        "id": "C6JYidbwMn5t"
      }
    },
    {
      "cell_type": "markdown",
      "source": [
        "###OLS : Ordinary Least Square (OLS) Method for Linear Regression"
      ],
      "metadata": {
        "id": "qXVa2PMlhBHA"
      }
    },
    {
      "cell_type": "code",
      "source": [
        "import statsmodels.api as sm\n",
        "# Add a constant to get an intercept\n",
        "X_train_sm = sm.add_constant(X_train)\n",
        "# Fit the resgression line using 'OLS'\n",
        "lr = sm.OLS(y_train, X_train_sm).fit()"
      ],
      "metadata": {
        "id": "MMPSNsxGhDuv"
      },
      "execution_count": null,
      "outputs": []
    },
    {
      "cell_type": "code",
      "source": [
        "lr.params"
      ],
      "metadata": {
        "id": "9kcqk9zchKhj"
      },
      "execution_count": null,
      "outputs": []
    },
    {
      "cell_type": "markdown",
      "source": [
        "y = mx +c\n",
        "\n",
        "c = 6.989\n",
        "\n",
        "m = 0.0464\n",
        "\n",
        "here, 6.948 is the intercept, and 0.0545 is a slope for the variable TV."
      ],
      "metadata": {
        "id": "rATWXLU9hSeN"
      }
    },
    {
      "cell_type": "code",
      "source": [
        "print(lr.summary())\n"
      ],
      "metadata": {
        "id": "02Jfb_RZhVXw"
      },
      "execution_count": null,
      "outputs": []
    }
  ]
}