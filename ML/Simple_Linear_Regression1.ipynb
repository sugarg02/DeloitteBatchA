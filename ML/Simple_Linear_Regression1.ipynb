{
  "nbformat": 4,
  "nbformat_minor": 0,
  "metadata": {
    "colab": {
      "name": "Simple Linear Regression1.ipynb",
      "provenance": []
    },
    "kernelspec": {
      "name": "python3",
      "display_name": "Python 3"
    },
    "language_info": {
      "name": "python"
    }
  },
  "cells": [
    {
      "cell_type": "code",
      "execution_count": null,
      "metadata": {
        "id": "hHEUfgV-2YSi"
      },
      "outputs": [],
      "source": [
        "import numpy as np\n",
        "import pandas as pd\n",
        "import matplotlib.pyplot as plt"
      ]
    },
    {
      "cell_type": "markdown",
      "source": [
        "##Import the data"
      ],
      "metadata": {
        "id": "4l-eTwhw38Q-"
      }
    },
    {
      "cell_type": "code",
      "source": [
        "dataset=pd.read_csv(\"Salary_Data.csv\")\n",
        "X=dataset.iloc[:,:-1].values\n",
        "y=dataset.iloc [ :, -1].values"
      ],
      "metadata": {
        "id": "5r92y8OZ36G9"
      },
      "execution_count": null,
      "outputs": []
    },
    {
      "cell_type": "code",
      "source": [
        "dataset.head()"
      ],
      "metadata": {
        "id": "Kqr3gD5N4dxU"
      },
      "execution_count": null,
      "outputs": []
    },
    {
      "cell_type": "markdown",
      "source": [
        "## Splitting the dataset into the Training set and Test set"
      ],
      "metadata": {
        "id": "m8ymtasO4mlX"
      }
    },
    {
      "cell_type": "code",
      "source": [
        "from sklearn.model_selection import train_test_split\n",
        "X_train, X_test, y_train, y_test = train_test_split(X,y, test_size=0.3, random_state=0)"
      ],
      "metadata": {
        "id": "Nd8VfDCD4nYH"
      },
      "execution_count": null,
      "outputs": []
    },
    {
      "cell_type": "code",
      "source": [
        "X_test.shape"
      ],
      "metadata": {
        "id": "El_3ze2TCwrS"
      },
      "execution_count": null,
      "outputs": []
    },
    {
      "cell_type": "markdown",
      "source": [
        "## Training the Simple Linear Regression model on the Training set"
      ],
      "metadata": {
        "id": "kEnft6d77muy"
      }
    },
    {
      "cell_type": "code",
      "source": [
        "from sklearn.linear_model import LinearRegression\n",
        "regressor = LinearRegression()\n",
        "regressor.fit(X_train,y_train)"
      ],
      "metadata": {
        "id": "UreeKcbW7ohC"
      },
      "execution_count": null,
      "outputs": []
    },
    {
      "cell_type": "markdown",
      "source": [
        "## Predicting the Test set results"
      ],
      "metadata": {
        "id": "u23MT2r38DVO"
      }
    },
    {
      "cell_type": "code",
      "source": [
        "y_pred= regressor.predict(X_test)"
      ],
      "metadata": {
        "id": "7ZmAlID98GTs"
      },
      "execution_count": null,
      "outputs": []
    },
    {
      "cell_type": "markdown",
      "source": [
        "##Visualisation"
      ],
      "metadata": {
        "id": "Bd0ovT438yLe"
      }
    },
    {
      "cell_type": "code",
      "source": [
        "plt.scatter(X_train,y_train, color = 'red')\n",
        "plt.plot(X_train, regressor.predict(X_train), color ='blue')\n",
        "plt.title(\"Salary vs Experience(Training)\")\n",
        "plt.xlabel(\"Yars of Experience\")\n",
        "plt.ylabel(\"Salary\")"
      ],
      "metadata": {
        "id": "010ajWB383-o"
      },
      "execution_count": null,
      "outputs": []
    },
    {
      "cell_type": "code",
      "source": [
        "plt.scatter(X_test,y_test, color = 'red')\n",
        "plt.scatter(X_test,y_pred, color = 'green')\n",
        "plt.plot(X_train, regressor.predict(X_train), color ='blue')\n",
        "plt.title(\"Salary vs Experience(Training)\")\n",
        "plt.xlabel(\"Yars of Experience\")\n",
        "plt.ylabel(\"Salary\")"
      ],
      "metadata": {
        "id": "fD1Ra6VQ_z4T"
      },
      "execution_count": null,
      "outputs": []
    },
    {
      "cell_type": "markdown",
      "source": [
        "## Making a single prediction (for example the salary of an employee with 12 years of experience)"
      ],
      "metadata": {
        "id": "0rV0ni2jBdYy"
      }
    },
    {
      "cell_type": "code",
      "source": [
        "print(regressor.predict([[8.2]]))"
      ],
      "metadata": {
        "id": "ysCh9_pHBeG3"
      },
      "execution_count": null,
      "outputs": []
    },
    {
      "cell_type": "markdown",
      "source": [
        "regressor.predict([[12]])"
      ],
      "metadata": {
        "id": "n4lhI0IpDe4d"
      }
    },
    {
      "cell_type": "markdown",
      "source": [
        "## Getting the final linear regression equation with the values of the coefficients"
      ],
      "metadata": {
        "id": "2jHg3J6DDoG7"
      }
    },
    {
      "cell_type": "code",
      "source": [
        "print(regressor.coef_)\n",
        "print(regressor.intercept_)"
      ],
      "metadata": {
        "id": "46InaLrsDo27"
      },
      "execution_count": null,
      "outputs": []
    },
    {
      "cell_type": "markdown",
      "source": [
        "Therefore, the equation of our simple linear regression model is:\n",
        "\n",
        "$$\\textrm{Salary} = 9360.26 \\times \\textrm{YearsExperience} + 26777.39$$"
      ],
      "metadata": {
        "id": "_wx1I_QlD58d"
      }
    },
    {
      "cell_type": "markdown",
      "source": [
        "##RMSE value"
      ],
      "metadata": {
        "id": "1FPtajpxEXGi"
      }
    },
    {
      "cell_type": "code",
      "source": [
        "from sklearn.metrics  import mean_squared_error\n",
        "from sklearn.metrics import r2_score\n",
        "print( \"RMSE: \",np.sqrt( mean_squared_error( y_test, y_pred ) ))"
      ],
      "metadata": {
        "colab": {
          "base_uri": "https://localhost:8080/"
        },
        "id": "N_6rE1l-D40m",
        "outputId": "e6faf903-806f-428a-c946-1febb6fc5538"
      },
      "execution_count": 29,
      "outputs": [
        {
          "output_type": "stream",
          "name": "stdout",
          "text": [
            "RMSE:  4834.260936361728\n"
          ]
        }
      ]
    },
    {
      "cell_type": "code",
      "source": [
        "#R-squared value\n",
        "print( \"R-squared: \",r2_score( y_test, y_pred ) )"
      ],
      "metadata": {
        "colab": {
          "base_uri": "https://localhost:8080/"
        },
        "id": "ENKxWfkbEr6C",
        "outputId": "c49402bd-8ecc-41f2-81cf-08a7ce3bd168"
      },
      "execution_count": 30,
      "outputs": [
        {
          "output_type": "stream",
          "name": "stdout",
          "text": [
            "R-squared:  0.9740993407213511\n"
          ]
        }
      ]
    }
  ]
}