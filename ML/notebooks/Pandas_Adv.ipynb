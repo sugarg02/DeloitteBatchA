{ 
  "nbformat": 4,
  "nbformat_minor": 0,
  "metadata": {
    "colab": {
      "name": "Pandas Adv.ipynb",
      "provenance": []
    },
    "kernelspec": {
      "name": "python3",
      "display_name": "Python 3"
    },
    "language_info": {
      "name": "python"
    }
  },
  "cells": [
    {
      "cell_type": "code",
      "execution_count": null,
      "metadata": {
        "id": "AJjIoMCdwdxz"
      },
      "outputs": [],
      "source": [
        "import pandas as pd\n",
        "df= pd.read_csv(\"data.csv\")\n",
        "print(df.info())\n",
        "print(df.describe())"
      ]
    },
    {
      "cell_type": "code",
      "source": [
        "# head tail describe info"
      ],
      "metadata": {
        "id": "9Tlob6miw19V"
      },
      "execution_count": null,
      "outputs": []
    },
    {
      "cell_type": "code",
      "source": [
        "df= pd.read_json('data.json')\n",
        "print(df)"
      ],
      "metadata": {
        "id": "dzSfFjAX0MmS"
      },
      "execution_count": null,
      "outputs": []
    },
    {
      "cell_type": "markdown",
      "source": [
        "Data cleaning means fixing bad data in your data set.\n",
        "\n",
        "Bad data could be:\n",
        "\n",
        "Empty cells\n",
        "\n",
        "Data in wrong format\n",
        "\n",
        "Wrong data\n",
        "\n",
        "Duplicates"
      ],
      "metadata": {
        "id": "pSRodSJa0vXW"
      }
    },
    {
      "cell_type": "code",
      "source": [
        "df = pd.read_csv(\"dirtydata.csv\")\n",
        "df.info()"
      ],
      "metadata": {
        "id": "U41_m5Oi0rCK"
      },
      "execution_count": null,
      "outputs": []
    },
    {
      "cell_type": "markdown",
      "source": [
        "The data set contains some empty cells (\"Date\" in row 22, and \"Calories\" in row 18 and 28).\n",
        "\n",
        "The data set contains wrong format (\"Date\" in row 26).\n",
        "\n",
        "The data set contains wrong data (\"Duration\" in row 7).\n",
        "\n",
        "The data set contains duplicates (row 11 and 12)"
      ],
      "metadata": {
        "id": "Aj1uTdA_3fOf"
      }
    },
    {
      "cell_type": "code",
      "source": [
        "df = pd.read_csv(\"dirtydata.csv\")\n",
        "new_df= df.dropna()\n",
        "print(new_df.info())\n",
        "print(df.info())"
      ],
      "metadata": {
        "id": "YMHqoSGl3rUl"
      },
      "execution_count": null,
      "outputs": []
    },
    {
      "cell_type": "code",
      "source": [
        "df = pd.read_csv(\"dirtydata.csv\")\n",
        "df.dropna(inplace=True)\n",
        "print(df.info())\n",
        "print(df)"
      ],
      "metadata": {
        "id": "vkyvkq3d3Bxv"
      },
      "execution_count": null,
      "outputs": []
    },
    {
      "cell_type": "code",
      "source": [
        "df = pd.read_csv(\"dirtydata.csv\")\n",
        "df.fillna(100, inplace =True)\n",
        "print(df.info())\n",
        "print(df)"
      ],
      "metadata": {
        "id": "0D-6XYXb5L13"
      },
      "execution_count": null,
      "outputs": []
    },
    {
      "cell_type": "code",
      "source": [
        "df = pd.read_csv(\"dirtydata.csv\")\n",
        "df[\"Calories\"].fillna(500, inplace =True)\n",
        "print(df.info())\n",
        "print(df)"
      ],
      "metadata": {
        "id": "d-jrmuHV5s8D"
      },
      "execution_count": null,
      "outputs": []
    },
    {
      "cell_type": "code",
      "source": [
        "df = pd.read_csv(\"dirtydata.csv\")\n",
        "x=df[\"Calories\"].median()\n",
        "df[\"Calories\"].fillna(x, inplace =True)\n",
        "print(df)"
      ],
      "metadata": {
        "id": "Zk5RdXCE7r1P"
      },
      "execution_count": null,
      "outputs": []
    },
    {
      "cell_type": "code",
      "source": [
        "df = pd.read_csv(\"dirtydata.csv\")\n",
        "df[\"Date\"]= pd.to_datetime(df[\"Date\"])\n",
        "df.dropna(subset=[\"Date\"],inplace=True)\n",
        "print(df)"
      ],
      "metadata": {
        "id": "xSQ9IaP28UL7"
      },
      "execution_count": null,
      "outputs": []
    },
    {
      "cell_type": "code",
      "source": [
        "df = pd.read_csv(\"dirtydata.csv\")\n",
        "#df.isnull()\n",
        "df.isna().sum()"
      ],
      "metadata": {
        "id": "lE0jDB0R9joW"
      },
      "execution_count": null,
      "outputs": []
    },
    {
      "cell_type": "code",
      "source": [
        "#display number of column with null value\n",
        "isna().any().sum()"
      ],
      "metadata": {
        "id": "MDvYpG9fAK_f"
      },
      "execution_count": null,
      "outputs": []
    },
    {
      "cell_type": "code",
      "source": [
        "df = pd.read_csv(\"dirtydata.csv\")\n",
        "for x in df.index:\n",
        "  if df.loc[x,\"Duration\"] >60:\n",
        "    #df.loc[x,\"Duration\"]=60\n",
        "    df.drop(x, inplace = True)\n",
        "print(df)"
      ],
      "metadata": {
        "id": "m2xvaa6xBVZC"
      },
      "execution_count": null,
      "outputs": []
    },
    {
      "cell_type": "code",
      "source": [
        "print(df.duplicated())\n",
        "df.drop_duplicates(inplace=True)\n",
        "df"
      ],
      "metadata": {
        "id": "s6VCnJIzCizN"
      },
      "execution_count": null,
      "outputs": []
    }
  ]
}
