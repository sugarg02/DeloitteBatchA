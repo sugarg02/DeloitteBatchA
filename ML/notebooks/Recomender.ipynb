{
  "nbformat": 4,
  "nbformat_minor": 0,
  "metadata": {
    "colab": {
      "name": "Recomender.ipynb",
      "provenance": []
    },
    "kernelspec": {
      "name": "python3",
      "display_name": "Python 3"
    },
    "language_info": {
      "name": "python"
    }
  },
  "cells": [
    {
      "cell_type": "code",
      "execution_count": null,
      "metadata": {
        "id": "BTZ05gfhDL0V"
      },
      "outputs": [],
      "source": [
        "import pandas as pd\n",
        "import numpy as np"
      ]
    },
    {
      "cell_type": "code",
      "source": [
        "df = pd.DataFrame({'user_0':[0,3,0,5,0,0,4,5,0,2], 'user_1':[0,0,3,2,5,0,4,0,3,0], 'user_2':[3,1,0,3,5,0,0,4,0,0], 'user_3':[4,3,4,2,0,0,0,2,0,0], \n",
        "                   'user_4':[2,0,0,0,0,4,4,3,5,0], 'user_5':[1,0,2,4,0,0,4,0,5,0], 'user_6':[2,0,0,3,0,4,3,3,0,0], 'user_7':[0,0,0,3,0,2,4,3,4,0], \n",
        "                   'user_8':[5,0,0,0,5,3,0,3,0,4], 'user_9':[1,0,2,0,4,0,4,3,0,0]}, index=['movie_0','movie_1','movie_2','movie_3','movie_4','movie_5','movie_6','movie_7','movie_8','movie_9'])"
      ],
      "metadata": {
        "id": "2114SJ9JD9gP"
      },
      "execution_count": null,
      "outputs": []
    },
    {
      "cell_type": "code",
      "source": [
        "df"
      ],
      "metadata": {
        "id": "3j3y-acbEIwS"
      },
      "execution_count": null,
      "outputs": []
    },
    {
      "cell_type": "markdown",
      "source": [
        "Let's use NearestNeighbors() to calculate the distance between movies using **cosine similarity** and find the most similar movies for each movie."
      ],
      "metadata": {
        "id": "DVplUjs7EQub"
      }
    },
    {
      "cell_type": "code",
      "source": [
        "from sklearn.neighbors import NearestNeighbors"
      ],
      "metadata": {
        "id": "Duz4N4ZXES1b"
      },
      "execution_count": null,
      "outputs": []
    },
    {
      "cell_type": "code",
      "source": [
        "knn = NearestNeighbors(metric='cosine', algorithm='brute')\n",
        "knn.fit(df.values)\n",
        "distances, indices = knn.kneighbors(df.values, n_neighbors=4)"
      ],
      "metadata": {
        "id": "DulYUFVhEciK"
      },
      "execution_count": 12,
      "outputs": []
    },
    {
      "cell_type": "markdown",
      "source": [
        "indices shows the nearest movies to each movie. Each row corresponds to the row in the df. The first element in a row is the most similar (nearest) movie. It is the movie itself. The second element is the second nearest, and the third is the third nearest. For example, in the first row [0,7,5], the nearest movie to 'movie_0' is itself, the second nearest movie is 'movie_7', and the third is 'movie_5'."
      ],
      "metadata": {
        "id": "ixv9ReBNEtF-"
      }
    },
    {
      "cell_type": "code",
      "source": [
        "indices"
      ],
      "metadata": {
        "colab": {
          "base_uri": "https://localhost:8080/"
        },
        "id": "jBbahFDhEymF",
        "outputId": "f9bd34bc-a8d8-4ea4-9c8c-e7eee041fa43"
      },
      "execution_count": 13,
      "outputs": [
        {
          "output_type": "execute_result",
          "data": {
            "text/plain": [
              "array([[0, 7, 5, 4],\n",
              "       [1, 3, 7, 2],\n",
              "       [2, 1, 6, 0],\n",
              "       [3, 6, 7, 1],\n",
              "       [4, 0, 7, 9],\n",
              "       [5, 7, 0, 6],\n",
              "       [6, 8, 3, 7],\n",
              "       [7, 3, 0, 6],\n",
              "       [8, 6, 3, 5],\n",
              "       [9, 0, 7, 4]])"
            ]
          },
          "metadata": {},
          "execution_count": 13
        }
      ]
    },
    {
      "cell_type": "markdown",
      "source": [
        "distances shows the distance between movies. Each number in this matrix corresponds to the number in the indices matrix.\n",
        "\n",
        "Let's present the info in the above matrices."
      ],
      "metadata": {
        "id": "rJJpnfBSE9py"
      }
    },
    {
      "cell_type": "code",
      "source": [
        "distances"
      ],
      "metadata": {
        "colab": {
          "base_uri": "https://localhost:8080/"
        },
        "id": "T51SkYO2E64X",
        "outputId": "b385bb1f-b35a-458a-8a55-ed5b8579406d"
      },
      "execution_count": 14,
      "outputs": [
        {
          "output_type": "execute_result",
          "data": {
            "text/plain": [
              "array([[0.00000000e+00, 3.19586183e-01, 4.03404722e-01, 4.04534842e-01],\n",
              "       [4.44089210e-16, 3.68421053e-01, 3.95436458e-01, 5.20766162e-01],\n",
              "       [0.00000000e+00, 5.20766162e-01, 5.24329288e-01, 5.50533425e-01],\n",
              "       [2.22044605e-16, 2.72367798e-01, 2.86615021e-01, 3.68421053e-01],\n",
              "       [0.00000000e+00, 4.04534842e-01, 4.80655057e-01, 5.31192769e-01],\n",
              "       [0.00000000e+00, 3.87174123e-01, 4.03404722e-01, 4.76277063e-01],\n",
              "       [0.00000000e+00, 2.33726809e-01, 2.72367798e-01, 3.31352150e-01],\n",
              "       [1.11022302e-16, 2.86615021e-01, 3.19586183e-01, 3.31352150e-01],\n",
              "       [2.22044605e-16, 2.33726809e-01, 4.96677704e-01, 5.18028739e-01],\n",
              "       [1.11022302e-16, 4.22649731e-01, 4.81455027e-01, 5.31192769e-01]])"
            ]
          },
          "metadata": {},
          "execution_count": 14
        }
      ]
    },
    {
      "cell_type": "code",
      "source": [
        "for title in df.index:\n",
        "\n",
        "  index_user_likes = df.index.tolist().index(title) # get an index for a movie\n",
        "  sim_movies = indices[index_user_likes].tolist() # make list for similar movies\n",
        "  movie_distances = distances[index_user_likes].tolist() # the list for distances of similar movies\n",
        "  id_movie = sim_movies.index(index_user_likes) # get the position of the movie itself in indices and distances\n",
        "\n",
        "  print('Similar Movies to '+str(df.index[index_user_likes])+':\\n')\n",
        "\n",
        "\n",
        "  sim_movies.remove(index_user_likes) # remove the movie itself in indices\n",
        "  movie_distances.pop(id_movie) # remove the movie itself in distances\n",
        "\n",
        "  j = 1\n",
        "  \n",
        "  for i in sim_movies:\n",
        "    print(str(j)+': '+str(df.index[i])+', the distance with '+str(title)+': '+str(movie_distances[j-1]))\n",
        "    j = j + 1\n",
        "      \n",
        "  print('\\n')"
      ],
      "metadata": {
        "colab": {
          "base_uri": "https://localhost:8080/"
        },
        "id": "f7ef0pRBFbqz",
        "outputId": "57b9df9b-b7f9-425b-ca65-6c1acf692044"
      },
      "execution_count": 11,
      "outputs": [
        {
          "output_type": "stream",
          "name": "stdout",
          "text": [
            "Similar Movies to movie_0:\n",
            "\n",
            "1: movie_7, the distance with movie_0: 0.3195861825602283\n",
            "2: movie_5, the distance with movie_0: 0.40340472183738674\n",
            "\n",
            "\n",
            "Similar Movies to movie_1:\n",
            "\n",
            "1: movie_3, the distance with movie_1: 0.3684210526315791\n",
            "2: movie_7, the distance with movie_1: 0.39543645824165696\n",
            "\n",
            "\n",
            "Similar Movies to movie_2:\n",
            "\n",
            "1: movie_1, the distance with movie_2: 0.5207661617014769\n",
            "2: movie_6, the distance with movie_2: 0.5243292879915494\n",
            "\n",
            "\n",
            "Similar Movies to movie_3:\n",
            "\n",
            "1: movie_6, the distance with movie_3: 0.27236779788557686\n",
            "2: movie_7, the distance with movie_3: 0.2866150207251553\n",
            "\n",
            "\n",
            "Similar Movies to movie_4:\n",
            "\n",
            "1: movie_0, the distance with movie_4: 0.40453484184315647\n",
            "2: movie_7, the distance with movie_4: 0.4806550570967598\n",
            "\n",
            "\n",
            "Similar Movies to movie_5:\n",
            "\n",
            "1: movie_7, the distance with movie_5: 0.38717412297165876\n",
            "2: movie_0, the distance with movie_5: 0.40340472183738674\n",
            "\n",
            "\n",
            "Similar Movies to movie_6:\n",
            "\n",
            "1: movie_8, the distance with movie_6: 0.23372680904614496\n",
            "2: movie_3, the distance with movie_6: 0.27236779788557686\n",
            "\n",
            "\n",
            "Similar Movies to movie_7:\n",
            "\n",
            "1: movie_3, the distance with movie_7: 0.2866150207251553\n",
            "2: movie_0, the distance with movie_7: 0.3195861825602283\n",
            "\n",
            "\n",
            "Similar Movies to movie_8:\n",
            "\n",
            "1: movie_6, the distance with movie_8: 0.23372680904614496\n",
            "2: movie_3, the distance with movie_8: 0.49667770431528346\n",
            "\n",
            "\n",
            "Similar Movies to movie_9:\n",
            "\n",
            "1: movie_0, the distance with movie_9: 0.42264973081037427\n",
            "2: movie_7, the distance with movie_9: 0.4814550271298651\n",
            "\n",
            "\n"
          ]
        }
      ]
    },
    {
      "cell_type": "code",
      "source": [
        "# find the nearest neighbors using NearestNeighbors(n_neighbors=3)\n",
        "number_neighbors = 3\n",
        "knn = NearestNeighbors(metric='cosine', algorithm='brute')\n",
        "knn.fit(df.values)\n",
        "distances, indices = knn.kneighbors(df.values, n_neighbors=number_neighbors)\n",
        "\n",
        "# copy df\n",
        "df1 = df.copy()\n",
        "\n",
        "# convert user_name to user_index\n",
        "user_index = df.columns.tolist().index('user_4')\n",
        "\n",
        "# t: movie_title, m: the row number of t in df\n",
        "for m,t in list(enumerate(df.index)):\n",
        "  \n",
        "  # find movies without ratings by user_4\n",
        "  if df.iloc[m, user_index] == 0:\n",
        "    sim_movies = indices[m].tolist()\n",
        "    movie_distances = distances[m].tolist()\n",
        "    \n",
        "    # Generally, this is the case: indices[3] = [3 6 7]. The movie itself is in the first place.\n",
        "    # In this case, we take off 3 from the list. Then, indices[3] == [6 7] to have the nearest NEIGHBORS in the list. \n",
        "    if m in sim_movies:\n",
        "      id_movie = sim_movies.index(m)\n",
        "      sim_movies.remove(m)\n",
        "      movie_distances.pop(id_movie) \n",
        "\n",
        "    # However, if the percentage of ratings in the dataset is very low, there are too many 0s in the dataset. \n",
        "    # Some movies have all 0 ratings and the movies with all 0s are considered the same movies by NearestNeighbors(). \n",
        "    # Then,even the movie itself cannot be included in the indices. \n",
        "    # For example, indices[3] = [2 4 7] is possible if movie_2, movie_3, movie_4, and movie_7 have all 0s for their ratings.\n",
        "    # In that case, we take off the farthest movie in the list. Therefore, 7 is taken off from the list, then indices[3] == [2 4].\n",
        "    else:\n",
        "      sim_movies = sim_movies[:number_neighbors-1]\n",
        "      movie_distances = movie_distances[:number_neighbors-1]\n",
        "        \n",
        "    # movie_similarty = 1 - movie_distance    \n",
        "    movie_similarity = [1-x for x in movie_distances]\n",
        "    movie_similarity_copy = movie_similarity.copy()\n",
        "    nominator = 0\n",
        "\n",
        "    # for each similar movie\n",
        "    for s in range(0, len(movie_similarity)):\n",
        "      \n",
        "      # check if the rating of a similar movie is zero\n",
        "      if df.iloc[sim_movies[s], user_index] == 0:\n",
        "\n",
        "        # if the rating is zero, ignore the rating and the similarity in calculating the predicted rating\n",
        "        if len(movie_similarity_copy) == (number_neighbors - 1):\n",
        "          movie_similarity_copy.pop(s)\n",
        "          \n",
        "        else:\n",
        "          movie_similarity_copy.pop(s-(len(movie_similarity)-len(movie_similarity_copy)))\n",
        "\n",
        "      # if the rating is not zero, use the rating and similarity in the calculation\n",
        "      else:\n",
        "        nominator = nominator + movie_similarity[s]*df.iloc[sim_movies[s],user_index]\n",
        "\n",
        "    # check if the number of the ratings with non-zero is positive\n",
        "    if len(movie_similarity_copy) > 0:\n",
        "      \n",
        "      # check if the sum of the ratings of the similar movies is positive.\n",
        "      if sum(movie_similarity_copy) > 0:\n",
        "        predicted_r = nominator/sum(movie_similarity_copy)\n",
        "\n",
        "      # Even if there are some movies for which the ratings are positive, some movies have zero similarity even though they are selected as similar movies.\n",
        "      # in this case, the predicted rating becomes zero as well  \n",
        "      else:\n",
        "        predicted_r = 0\n",
        "\n",
        "    # if all the ratings of the similar movies are zero, then predicted rating should be zero\n",
        "    else:\n",
        "      predicted_r = 0\n",
        "\n",
        "  # place the predicted rating into the copy of the original dataset\n",
        "    df1.iloc[m,user_index] = predicted_r"
      ],
      "metadata": {
        "id": "H40c-ElxHSKn"
      },
      "execution_count": 15,
      "outputs": []
    },
    {
      "cell_type": "code",
      "source": [
        "df1"
      ],
      "metadata": {
        "colab": {
          "base_uri": "https://localhost:8080/",
          "height": 363
        },
        "id": "c41PSMvVHjuN",
        "outputId": "c2da1f72-ed39-40ad-8621-530cef039a07"
      },
      "execution_count": 16,
      "outputs": [
        {
          "output_type": "execute_result",
          "data": {
            "text/html": [
              "\n",
              "  <div id=\"df-26982f44-ce6f-48a4-a026-3b09aa919ab9\">\n",
              "    <div class=\"colab-df-container\">\n",
              "      <div>\n",
              "<style scoped>\n",
              "    .dataframe tbody tr th:only-of-type {\n",
              "        vertical-align: middle;\n",
              "    }\n",
              "\n",
              "    .dataframe tbody tr th {\n",
              "        vertical-align: top;\n",
              "    }\n",
              "\n",
              "    .dataframe thead th {\n",
              "        text-align: right;\n",
              "    }\n",
              "</style>\n",
              "<table border=\"1\" class=\"dataframe\">\n",
              "  <thead>\n",
              "    <tr style=\"text-align: right;\">\n",
              "      <th></th>\n",
              "      <th>user_0</th>\n",
              "      <th>user_1</th>\n",
              "      <th>user_2</th>\n",
              "      <th>user_3</th>\n",
              "      <th>user_4</th>\n",
              "      <th>user_5</th>\n",
              "      <th>user_6</th>\n",
              "      <th>user_7</th>\n",
              "      <th>user_8</th>\n",
              "      <th>user_9</th>\n",
              "    </tr>\n",
              "  </thead>\n",
              "  <tbody>\n",
              "    <tr>\n",
              "      <th>movie_0</th>\n",
              "      <td>0</td>\n",
              "      <td>0</td>\n",
              "      <td>3</td>\n",
              "      <td>4</td>\n",
              "      <td>2.000000</td>\n",
              "      <td>1</td>\n",
              "      <td>2</td>\n",
              "      <td>0</td>\n",
              "      <td>5</td>\n",
              "      <td>1</td>\n",
              "    </tr>\n",
              "    <tr>\n",
              "      <th>movie_1</th>\n",
              "      <td>3</td>\n",
              "      <td>0</td>\n",
              "      <td>1</td>\n",
              "      <td>3</td>\n",
              "      <td>3.000000</td>\n",
              "      <td>0</td>\n",
              "      <td>0</td>\n",
              "      <td>0</td>\n",
              "      <td>0</td>\n",
              "      <td>0</td>\n",
              "    </tr>\n",
              "    <tr>\n",
              "      <th>movie_2</th>\n",
              "      <td>0</td>\n",
              "      <td>3</td>\n",
              "      <td>0</td>\n",
              "      <td>4</td>\n",
              "      <td>4.000000</td>\n",
              "      <td>2</td>\n",
              "      <td>0</td>\n",
              "      <td>0</td>\n",
              "      <td>0</td>\n",
              "      <td>2</td>\n",
              "    </tr>\n",
              "    <tr>\n",
              "      <th>movie_3</th>\n",
              "      <td>5</td>\n",
              "      <td>2</td>\n",
              "      <td>3</td>\n",
              "      <td>2</td>\n",
              "      <td>3.504943</td>\n",
              "      <td>4</td>\n",
              "      <td>3</td>\n",
              "      <td>3</td>\n",
              "      <td>0</td>\n",
              "      <td>0</td>\n",
              "    </tr>\n",
              "    <tr>\n",
              "      <th>movie_4</th>\n",
              "      <td>0</td>\n",
              "      <td>5</td>\n",
              "      <td>5</td>\n",
              "      <td>0</td>\n",
              "      <td>2.465860</td>\n",
              "      <td>0</td>\n",
              "      <td>0</td>\n",
              "      <td>0</td>\n",
              "      <td>5</td>\n",
              "      <td>4</td>\n",
              "    </tr>\n",
              "    <tr>\n",
              "      <th>movie_5</th>\n",
              "      <td>0</td>\n",
              "      <td>0</td>\n",
              "      <td>0</td>\n",
              "      <td>0</td>\n",
              "      <td>4.000000</td>\n",
              "      <td>0</td>\n",
              "      <td>4</td>\n",
              "      <td>2</td>\n",
              "      <td>3</td>\n",
              "      <td>0</td>\n",
              "    </tr>\n",
              "    <tr>\n",
              "      <th>movie_6</th>\n",
              "      <td>4</td>\n",
              "      <td>4</td>\n",
              "      <td>0</td>\n",
              "      <td>0</td>\n",
              "      <td>4.000000</td>\n",
              "      <td>4</td>\n",
              "      <td>3</td>\n",
              "      <td>4</td>\n",
              "      <td>0</td>\n",
              "      <td>4</td>\n",
              "    </tr>\n",
              "    <tr>\n",
              "      <th>movie_7</th>\n",
              "      <td>5</td>\n",
              "      <td>0</td>\n",
              "      <td>4</td>\n",
              "      <td>2</td>\n",
              "      <td>3.000000</td>\n",
              "      <td>0</td>\n",
              "      <td>3</td>\n",
              "      <td>3</td>\n",
              "      <td>3</td>\n",
              "      <td>3</td>\n",
              "    </tr>\n",
              "    <tr>\n",
              "      <th>movie_8</th>\n",
              "      <td>0</td>\n",
              "      <td>3</td>\n",
              "      <td>0</td>\n",
              "      <td>0</td>\n",
              "      <td>5.000000</td>\n",
              "      <td>5</td>\n",
              "      <td>0</td>\n",
              "      <td>4</td>\n",
              "      <td>0</td>\n",
              "      <td>0</td>\n",
              "    </tr>\n",
              "    <tr>\n",
              "      <th>movie_9</th>\n",
              "      <td>2</td>\n",
              "      <td>0</td>\n",
              "      <td>0</td>\n",
              "      <td>0</td>\n",
              "      <td>2.473170</td>\n",
              "      <td>0</td>\n",
              "      <td>0</td>\n",
              "      <td>0</td>\n",
              "      <td>4</td>\n",
              "      <td>0</td>\n",
              "    </tr>\n",
              "  </tbody>\n",
              "</table>\n",
              "</div>\n",
              "      <button class=\"colab-df-convert\" onclick=\"convertToInteractive('df-26982f44-ce6f-48a4-a026-3b09aa919ab9')\"\n",
              "              title=\"Convert this dataframe to an interactive table.\"\n",
              "              style=\"display:none;\">\n",
              "        \n",
              "  <svg xmlns=\"http://www.w3.org/2000/svg\" height=\"24px\"viewBox=\"0 0 24 24\"\n",
              "       width=\"24px\">\n",
              "    <path d=\"M0 0h24v24H0V0z\" fill=\"none\"/>\n",
              "    <path d=\"M18.56 5.44l.94 2.06.94-2.06 2.06-.94-2.06-.94-.94-2.06-.94 2.06-2.06.94zm-11 1L8.5 8.5l.94-2.06 2.06-.94-2.06-.94L8.5 2.5l-.94 2.06-2.06.94zm10 10l.94 2.06.94-2.06 2.06-.94-2.06-.94-.94-2.06-.94 2.06-2.06.94z\"/><path d=\"M17.41 7.96l-1.37-1.37c-.4-.4-.92-.59-1.43-.59-.52 0-1.04.2-1.43.59L10.3 9.45l-7.72 7.72c-.78.78-.78 2.05 0 2.83L4 21.41c.39.39.9.59 1.41.59.51 0 1.02-.2 1.41-.59l7.78-7.78 2.81-2.81c.8-.78.8-2.07 0-2.86zM5.41 20L4 18.59l7.72-7.72 1.47 1.35L5.41 20z\"/>\n",
              "  </svg>\n",
              "      </button>\n",
              "      \n",
              "  <style>\n",
              "    .colab-df-container {\n",
              "      display:flex;\n",
              "      flex-wrap:wrap;\n",
              "      gap: 12px;\n",
              "    }\n",
              "\n",
              "    .colab-df-convert {\n",
              "      background-color: #E8F0FE;\n",
              "      border: none;\n",
              "      border-radius: 50%;\n",
              "      cursor: pointer;\n",
              "      display: none;\n",
              "      fill: #1967D2;\n",
              "      height: 32px;\n",
              "      padding: 0 0 0 0;\n",
              "      width: 32px;\n",
              "    }\n",
              "\n",
              "    .colab-df-convert:hover {\n",
              "      background-color: #E2EBFA;\n",
              "      box-shadow: 0px 1px 2px rgba(60, 64, 67, 0.3), 0px 1px 3px 1px rgba(60, 64, 67, 0.15);\n",
              "      fill: #174EA6;\n",
              "    }\n",
              "\n",
              "    [theme=dark] .colab-df-convert {\n",
              "      background-color: #3B4455;\n",
              "      fill: #D2E3FC;\n",
              "    }\n",
              "\n",
              "    [theme=dark] .colab-df-convert:hover {\n",
              "      background-color: #434B5C;\n",
              "      box-shadow: 0px 1px 3px 1px rgba(0, 0, 0, 0.15);\n",
              "      filter: drop-shadow(0px 1px 2px rgba(0, 0, 0, 0.3));\n",
              "      fill: #FFFFFF;\n",
              "    }\n",
              "  </style>\n",
              "\n",
              "      <script>\n",
              "        const buttonEl =\n",
              "          document.querySelector('#df-26982f44-ce6f-48a4-a026-3b09aa919ab9 button.colab-df-convert');\n",
              "        buttonEl.style.display =\n",
              "          google.colab.kernel.accessAllowed ? 'block' : 'none';\n",
              "\n",
              "        async function convertToInteractive(key) {\n",
              "          const element = document.querySelector('#df-26982f44-ce6f-48a4-a026-3b09aa919ab9');\n",
              "          const dataTable =\n",
              "            await google.colab.kernel.invokeFunction('convertToInteractive',\n",
              "                                                     [key], {});\n",
              "          if (!dataTable) return;\n",
              "\n",
              "          const docLinkHtml = 'Like what you see? Visit the ' +\n",
              "            '<a target=\"_blank\" href=https://colab.research.google.com/notebooks/data_table.ipynb>data table notebook</a>'\n",
              "            + ' to learn more about interactive tables.';\n",
              "          element.innerHTML = '';\n",
              "          dataTable['output_type'] = 'display_data';\n",
              "          await google.colab.output.renderOutput(dataTable, element);\n",
              "          const docLink = document.createElement('div');\n",
              "          docLink.innerHTML = docLinkHtml;\n",
              "          element.appendChild(docLink);\n",
              "        }\n",
              "      </script>\n",
              "    </div>\n",
              "  </div>\n",
              "  "
            ],
            "text/plain": [
              "         user_0  user_1  user_2  user_3  ...  user_6  user_7  user_8  user_9\n",
              "movie_0       0       0       3       4  ...       2       0       5       1\n",
              "movie_1       3       0       1       3  ...       0       0       0       0\n",
              "movie_2       0       3       0       4  ...       0       0       0       2\n",
              "movie_3       5       2       3       2  ...       3       3       0       0\n",
              "movie_4       0       5       5       0  ...       0       0       5       4\n",
              "movie_5       0       0       0       0  ...       4       2       3       0\n",
              "movie_6       4       4       0       0  ...       3       4       0       4\n",
              "movie_7       5       0       4       2  ...       3       3       3       3\n",
              "movie_8       0       3       0       0  ...       0       4       0       0\n",
              "movie_9       2       0       0       0  ...       0       0       4       0\n",
              "\n",
              "[10 rows x 10 columns]"
            ]
          },
          "metadata": {},
          "execution_count": 16
        }
      ]
    },
    {
      "cell_type": "code",
      "source": [
        "def recommend_movies(user, num_recommended_movies):\n",
        "\n",
        "  print('The list of the Movies {} Has Watched \\n'.format(user))\n",
        "\n",
        "  for m in df[df[user] > 0][user].index.tolist():\n",
        "    print(m)\n",
        "  \n",
        "  print('\\n')\n",
        "\n",
        "  recommended_movies = []\n",
        "\n",
        "  for m in df[df[user] == 0].index.tolist():\n",
        "\n",
        "    index_df = df.index.tolist().index(m)\n",
        "    predicted_rating = df1.iloc[index_df, df1.columns.tolist().index(user)]\n",
        "    recommended_movies.append((m, predicted_rating))\n",
        "\n",
        "  sorted_rm = sorted(recommended_movies, key=lambda x:x[1], reverse=True)\n",
        "  \n",
        "  print('The list of the Recommended Movies \\n')\n",
        "  rank = 1\n",
        "  for recommended_movie in sorted_rm[:num_recommended_movies]:\n",
        "    \n",
        "    print('{}: {} - predicted rating:{}'.format(rank, recommended_movie[0], recommended_movie[1]))\n",
        "    rank = rank + 1"
      ],
      "metadata": {
        "id": "id4kyqDoKn5f"
      },
      "execution_count": null,
      "outputs": []
    },
    {
      "cell_type": "code",
      "source": [
        "def recommend_movies(user, num_recommended_movies):\n",
        "\n",
        "  print('The list of the Movies {} Has Watched \\n'.format(user))\n",
        "\n",
        "  for m in df[df[user] > 0][user].index.tolist():\n",
        "    print(m)\n",
        "  \n",
        "  print('\\n')\n",
        "\n",
        "  recommended_movies = []\n",
        "\n",
        "  for m in df[df[user] == 0].index.tolist():\n",
        "\n",
        "    index_df = df.index.tolist().index(m)\n",
        "    predicted_rating = df1.iloc[index_df, df1.columns.tolist().index(user)]\n",
        "    recommended_movies.append((m, predicted_rating))\n",
        "\n",
        "  sorted_rm = sorted(recommended_movies, key=lambda x:x[1], reverse=True)\n",
        "  \n",
        "  print('The list of the Recommended Movies \\n')\n",
        "  rank = 1\n",
        "  for recommended_movie in sorted_rm[:num_recommended_movies]:\n",
        "    \n",
        "    print('{}: {} - predicted rating:{}'.format(rank, recommended_movie[0], recommended_movie[1]))\n",
        "    rank = rank + 1"
      ],
      "metadata": {
        "id": "zQITo7BAKuYx"
      },
      "execution_count": 17,
      "outputs": []
    },
    {
      "cell_type": "code",
      "source": [
        "recommend_movies('user_4',4)"
      ],
      "metadata": {
        "colab": {
          "base_uri": "https://localhost:8080/"
        },
        "id": "0X4RY_AfKvsd",
        "outputId": "34a04c1e-c04c-4d1d-b51f-84e7d1d6760c"
      },
      "execution_count": 19,
      "outputs": [
        {
          "output_type": "stream",
          "name": "stdout",
          "text": [
            "The list of the Movies user_4 Has Watched \n",
            "\n",
            "movie_0\n",
            "movie_5\n",
            "movie_6\n",
            "movie_7\n",
            "movie_8\n",
            "\n",
            "\n",
            "The list of the Recommended Movies \n",
            "\n",
            "1: movie_2 - predicted rating:4.0\n",
            "2: movie_3 - predicted rating:3.504943460433221\n",
            "3: movie_1 - predicted rating:3.0\n",
            "4: movie_9 - predicted rating:2.473170201830165\n"
          ]
        }
      ]
    }
  ]
}