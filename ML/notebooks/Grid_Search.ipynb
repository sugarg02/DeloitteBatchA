{
  "nbformat": 4,
  "nbformat_minor": 0,
  "metadata": {
    "colab": {
      "name": "Grid Search.ipynb",
      "provenance": []
    },
    "kernelspec": {
      "name": "python3",
      "display_name": "Python 3"
    },
    "language_info": {
      "name": "python"
    }
  },
  "cells": [
    {
      "cell_type": "code",
      "execution_count": 1,
      "metadata": {
        "id": "A8NiCDOWe_uN"
      },
      "outputs": [],
      "source": [
        "import pandas as pd\n",
        "\n",
        "from sklearn.ensemble import RandomForestClassifier\n",
        "\n",
        "from sklearn.model_selection import train_test_split\n",
        "\n",
        "from sklearn.model_selection import GridSearchCV"
      ]
    },
    {
      "cell_type": "code",
      "source": [
        "from sklearn import metrics\n",
        "\n",
        "import warnings\n",
        "\n",
        "warnings.filterwarnings('ignore')"
      ],
      "metadata": {
        "id": "p-g_xVV4fBuD"
      },
      "execution_count": 2,
      "outputs": []
    },
    {
      "cell_type": "code",
      "source": [
        "df = pd.read_csv('heart.csv')\n",
        "\n",
        "X = df.drop('target', axis = 1)\n",
        "\n",
        "y = df['target']\n",
        "\n",
        "X_train, X_test, y_train, y_test = train_test_split(X, y, test_size = 0.3, random_state = 42)\n"
      ],
      "metadata": {
        "id": "J5dfsKbnfQpq"
      },
      "execution_count": 4,
      "outputs": []
    },
    {
      "cell_type": "code",
      "source": [
        "rfc = RandomForestClassifier()\n",
        "\n",
        "forest_params = [{'max_depth': list(range(10, 15)), 'max_features': list(range(0,14))}]\n",
        "\n",
        "clf = GridSearchCV(rfc, forest_params, cv = 10, scoring='accuracy')\n",
        "\n",
        "clf.fit(X_train, y_train)\n",
        "\n",
        "print(clf.best_params_)\n",
        "\n",
        "print(clf.best_score_)"
      ],
      "metadata": {
        "colab": {
          "base_uri": "https://localhost:8080/"
        },
        "id": "5jp3jymIfpF9",
        "outputId": "47711469-28a6-42c9-8169-92124d84f5dc"
      },
      "execution_count": 5,
      "outputs": [
        {
          "output_type": "stream",
          "name": "stdout",
          "text": [
            "{'max_depth': 10, 'max_features': 1}\n",
            "0.8487012987012987\n"
          ]
        }
      ]
    }
  ]
}