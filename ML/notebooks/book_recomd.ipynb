{
  "nbformat": 4,
  "nbformat_minor": 0,
  "metadata": {
    "colab": {
      "name": "book recomd.ipynb",
      "provenance": []
    },
    "kernelspec": {
      "name": "python3",
      "display_name": "Python 3"
    },
    "language_info": {
      "name": "python"
    }
  },
  "cells": [
    {
      "cell_type": "code",
      "execution_count": null,
      "metadata": {
        "id": "YiXEBFgEg7zh"
      },
      "outputs": [],
      "source": [
        "import numpy as np\n",
        "import pandas as pd\n",
        "books = pd.read_csv(\"BX-Books.csv\", sep=';', encoding=\"latin-1\", error_bad_lines=False)\n",
        "users = pd.read_csv(\"BX-Users.csv\", sep=';', encoding=\"latin-1\", error_bad_lines=False)\n",
        "ratings = pd.read_csv(\"BX-Book-Ratings.csv\", sep=';', encoding=\"latin-1\", error_bad_lines=False)"
      ]
    },
    {
      "cell_type": "code",
      "source": [
        "books = books[['ISBN', 'Book-Title', 'Book-Author', 'Year-Of-Publication', 'Publisher']]\n",
        "books.rename(columns = {'Book-Title':'title', 'Book-Author':'author', 'Year-Of-Publication':'year', 'Publisher':'publisher'}, inplace=True)\n",
        "users.rename(columns = {'User-ID':'user_id', 'Location':'location', 'Age':'age'}, inplace=True)\n",
        "ratings.rename(columns = {'User-ID':'user_id', 'Book-Rating':'rating'}, inplace=True)"
      ],
      "metadata": {
        "id": "m0RC3TG8jTJT"
      },
      "execution_count": null,
      "outputs": []
    },
    {
      "cell_type": "code",
      "source": [
        "\n",
        "x = ratings['user_id'].value_counts() > 200\n",
        "y = x[x].index  #user_ids\n",
        "print(y.shape)\n",
        "ratings = ratings[ratings['user_id'].isin(y)]\n",
        "ratings"
      ],
      "metadata": {
        "id": "sFwnU4zQkviq"
      },
      "execution_count": null,
      "outputs": []
    },
    {
      "cell_type": "code",
      "source": [
        "rating_with_books = ratings.merge(books, on='ISBN')\n",
        "rating_with_books.head()"
      ],
      "metadata": {
        "id": "oAJYwRaJlEnD"
      },
      "execution_count": null,
      "outputs": []
    },
    {
      "cell_type": "code",
      "source": [
        "number_rating = rating_with_books.groupby('title')['rating'].count().reset_index()\n",
        "number_rating"
      ],
      "metadata": {
        "id": "c0JcEVP_l3YH"
      },
      "execution_count": null,
      "outputs": []
    },
    {
      "cell_type": "code",
      "source": [
        "number_rating.rename(columns= {'rating':'number_of_ratings'}, inplace=True)"
      ],
      "metadata": {
        "id": "jZZIpw9Mmb1q"
      },
      "execution_count": null,
      "outputs": []
    },
    {
      "cell_type": "code",
      "source": [
        "final_rating = rating_with_books.merge(number_rating, on='title')\n",
        "final_rating"
      ],
      "metadata": {
        "id": "S8T1ILpcmkbV"
      },
      "execution_count": null,
      "outputs": []
    },
    {
      "cell_type": "code",
      "source": [
        "final_rating = final_rating[final_rating['number_of_ratings'] >= 50]\n",
        "final_rating"
      ],
      "metadata": {
        "id": "iH0gRTFSnUDH"
      },
      "execution_count": null,
      "outputs": []
    },
    {
      "cell_type": "code",
      "source": [
        "book_pivot = final_rating.pivot_table(columns= 'user_id', index='title', values = 'rating')"
      ],
      "metadata": {
        "id": "v5W3qErLp3xb"
      },
      "execution_count": null,
      "outputs": []
    },
    {
      "cell_type": "code",
      "source": [
        "book_pivot.fillna(0, inplace = True)"
      ],
      "metadata": {
        "id": "0JTnbPrUqIC4"
      },
      "execution_count": null,
      "outputs": []
    },
    {
      "cell_type": "code",
      "source": [
        "book_pivot"
      ],
      "metadata": {
        "id": "mMybKVa3qURl"
      },
      "execution_count": null,
      "outputs": []
    },
    {
      "cell_type": "code",
      "source": [
        "from scipy.sparse import csr_matrix\n",
        "book_sparse = csr_matrix(book_pivot)"
      ],
      "metadata": {
        "id": "q0VAyJtLqUTY"
      },
      "execution_count": null,
      "outputs": []
    },
    {
      "cell_type": "code",
      "source": [
        "from sklearn.neighbors import NearestNeighbors\n",
        "model = NearestNeighbors(algorithm = 'brute')\n",
        "model.fit(book_sparse)"
      ],
      "metadata": {
        "id": "6khFNfkbtOvo"
      },
      "execution_count": null,
      "outputs": []
    },
    {
      "cell_type": "code",
      "source": [
        "distances, suggestions = model.kneighbors(book_pivot.iloc[100, :].values.reshape(1,-1))\n",
        "suggestions"
      ],
      "metadata": {
        "id": "OXnXS9k0t66a"
      },
      "execution_count": null,
      "outputs": []
    },
    {
      "cell_type": "code",
      "source": [
        "for i in range(len(suggestions)):\n",
        "  print(book_pivot.index[suggestions[i]])"
      ],
      "metadata": {
        "id": "dAlmPXAxuuUr"
      },
      "execution_count": null,
      "outputs": []
    }
  ]
}