{
  "nbformat": 4,
  "nbformat_minor": 0, 
  "metadata": {
    "colab": {
      "name": "Untitled34.ipynb",
      "provenance": [],
      "collapsed_sections": []
    },
    "kernelspec": {
      "name": "python3",
      "display_name": "Python 3"
    },
    "language_info": {
      "name": "python"
    }
  },
  "cells": [
    {
      "cell_type": "markdown",
      "source": [
        "Pandas Series"
      ],
      "metadata": {
        "id": "4YdExBAH4ovr"
      }
    },
    {
      "cell_type": "code",
      "execution_count": null,
      "metadata": {
        "id": "rHNxIECGuMey"
      },
      "outputs": [],
      "source": [
        "import pandas as pd\n",
        "pd.Series( data, index, dtype,copy)"
      ]
    },
    {
      "cell_type": "code",
      "source": [
        "s1= pd.Series()\n",
        "s1"
      ],
      "metadata": {
        "id": "T9LqnF3PxHqp"
      },
      "execution_count": null,
      "outputs": []
    },
    {
      "cell_type": "code",
      "source": [
        "import numpy as np\n",
        "data = np.array(['a','b','c','d'])\n",
        "s2= pd.Series(data)\n",
        "s2"
      ],
      "metadata": {
        "id": "Gpkyumv9xVIv"
      },
      "execution_count": null,
      "outputs": []
    },
    {
      "cell_type": "code",
      "source": [
        "data = np.array(['a','b','c','d'])\n",
        "s2= pd.Series(data, index=[10,11,12,13])\n",
        "s2"
      ],
      "metadata": {
        "id": "_q6QWQ61x__h"
      },
      "execution_count": null,
      "outputs": []
    },
    {
      "cell_type": "code",
      "source": [
        "data = { 'a':100, 'b':200, 'c':300}\n",
        "s1 = pd.Series(data)\n",
        "s1"
      ],
      "metadata": {
        "id": "2he_HLmdyX8P"
      },
      "execution_count": null,
      "outputs": []
    },
    {
      "cell_type": "code",
      "source": [
        "data = { 'a':0.3, 'b':1.5, 'c':3.2} \n",
        "s = pd.Series(data, index= ['b','a','c','d'])\n",
        "s"
      ],
      "metadata": {
        "id": "baTAXaAwzOu9"
      },
      "execution_count": null,
      "outputs": []
    },
    {
      "cell_type": "code",
      "source": [
        "s = pd.Series(5,index=[3,4,5,6,7])\n",
        "s"
      ],
      "metadata": {
        "id": "cuapX0N-2Tp_"
      },
      "execution_count": null,
      "outputs": []
    },
    {
      "cell_type": "markdown",
      "source": [
        "### **Pandas Dataframes**\n",
        "Lists\n",
        "\n",
        "dict\n",
        "\n",
        "series\n",
        "\n",
        "numpyarrays \n",
        "\n",
        "datatframe"
      ],
      "metadata": {
        "id": "yG8WaWKg4gHb"
      }
    },
    {
      "cell_type": "code",
      "source": [
        "data = [['John',40],['Sam',20],['Rita',30]]\n",
        "df = pd. DataFrame(data, columns = ['Name','Age'], index=[1,2,3], dtype =float)\n",
        "df"
      ],
      "metadata": {
        "id": "NLHF6wlt4kOs"
      },
      "execution_count": null,
      "outputs": []
    },
    {
      "cell_type": "code",
      "source": [
        "data = {'Name': ['John', 'Steve', 'Jack','Rita'], \n",
        "        'Age': [40, 20, 30, 35] }\n",
        "df= pd.DataFrame(data,index=[1,2,3,4])\n",
        "df"
      ],
      "metadata": {
        "id": "r5UWf_0A8ClK"
      },
      "execution_count": null,
      "outputs": []
    },
    {
      "cell_type": "code",
      "source": [
        "data =[{'a': 1,'b': 2}, {'a': 5,'b':10}]\n",
        "\n",
        "df=pd.DataFrame(data, index = ['first','second'], columns=['a','b1'])\n",
        "df"
      ],
      "metadata": {
        "id": "NCSy-eXd9mLX"
      },
      "execution_count": null,
      "outputs": []
    },
    {
      "cell_type": "code",
      "source": [
        "data = {'one': pd.Series([1,2,3], index=['a','b','c']), \n",
        "        'two': pd.Series([1,2,3,4], index=['a','b','c','d'])\n",
        "        }\n",
        "df= pd.DataFrame(data)\n",
        "df['three'] = pd.Series([1,2,3,8], index=['a','b','c','d'])\n",
        "df['four']=df['one']+df['two']\n",
        "df"
      ],
      "metadata": {
        "id": "SKGZz-Yl91m1"
      },
      "execution_count": null,
      "outputs": []
    },
    {
      "cell_type": "code",
      "source": [
        "del df['four']\n",
        "df"
      ],
      "metadata": {
        "id": "1zNbMBhDTXjP"
      },
      "execution_count": null,
      "outputs": []
    },
    {
      "cell_type": "code",
      "source": [
        "df.pop('three')\n",
        "df"
      ],
      "metadata": {
        "id": "OZhfMP2hTyJl"
      },
      "execution_count": null,
      "outputs": []
    },
    {
      "cell_type": "code",
      "source": [
        "data = {'one': pd.Series([1,2,3,5], index=['a','b','c','d']), \n",
        "        'two': pd.Series([1,2,3,4], index=['a','b','c','d'])\n",
        "        }\n",
        "df= pd.DataFrame(data)\n",
        "print(df)\n",
        "print(df.loc['b'])"
      ],
      "metadata": {
        "id": "hQX7IEbtVHzT"
      },
      "execution_count": null,
      "outputs": []
    },
    {
      "cell_type": "code",
      "source": [
        "print(df.iloc[2])"
      ],
      "metadata": {
        "id": "gZ4EVUHKV0g-"
      },
      "execution_count": null,
      "outputs": []
    },
    {
      "cell_type": "code",
      "source": [
        "print(df[:4])"
      ],
      "metadata": {
        "id": "Ys6vAtvAWLnH"
      },
      "execution_count": null,
      "outputs": []
    },
    {
      "cell_type": "code",
      "source": [
        "df1 = pd.DataFrame([[5, 6], [7, 8]],index=['e','f'],columns = ['one','two'])\n",
        "df=df.append(df1)\n",
        "\n",
        "df"
      ],
      "metadata": {
        "id": "JX8ihoPXWv-3"
      },
      "execution_count": null,
      "outputs": []
    },
    {
      "cell_type": "code",
      "source": [
        "df=df.drop('a')"
      ],
      "metadata": {
        "id": "F8zScaAjXXfT"
      },
      "execution_count": null,
      "outputs": []
    },
    {
      "cell_type": "code",
      "source": [
        "df"
      ],
      "metadata": {
        "id": "otvQROrOXeVu"
      },
      "execution_count": null,
      "outputs": []
    }
  ]
}
