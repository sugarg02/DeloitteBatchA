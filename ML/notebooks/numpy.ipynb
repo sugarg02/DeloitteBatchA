{
  "nbformat": 4,
  "nbformat_minor": 0,
  "metadata": {
    "colab": {
      "name": "numpy.ipynb",
      "provenance": []
    },
    "kernelspec": {
      "name": "python3",
      "display_name": "Python 3"
    },
    "language_info": {
      "name": "python"
    }
  },
  "cells": [
    {
      "cell_type": "code",
      "execution_count": null,
      "metadata": {
        "id": "7owh3monF-n3"
      },
      "outputs": [],
      "source": [
        "import numpy as np"
      ]
    },
    {
      "cell_type": "markdown",
      "source": [
        "pip install numpy\n",
        "conda install numpy \n",
        "\n",
        "Vectors, the 1D Arrays\n",
        "\n",
        "Matrices, the 2D Arrays\n",
        "\n",
        "3D and above Multidimensional arrays"
      ],
      "metadata": {
        "id": "PSDRKS1cG0fz"
      }
    },
    {
      "cell_type": "code",
      "source": [
        "array1 = numpy.array([1,2,3,4,5])\n",
        "array1\n",
        "type(array1)"
      ],
      "metadata": {
        "id": "mHPfHQNPHT3-"
      },
      "execution_count": null,
      "outputs": []
    },
    {
      "cell_type": "code",
      "source": [
        "array1 = np.array([1,2,3,4,5])\n",
        "array1"
      ],
      "metadata": {
        "id": "vruwVhm4H1ph"
      },
      "execution_count": null,
      "outputs": []
    },
    {
      "cell_type": "code",
      "source": [
        "np.__version__"
      ],
      "metadata": {
        "id": "3oqRhRtPIEKw"
      },
      "execution_count": null,
      "outputs": []
    },
    {
      "cell_type": "code",
      "source": [
        "# ndarray.ndim : specifies the number of dimensions\n",
        "#ndarrray.shape: what is the dimension of the array\n",
        "# ndarray.size : number of elements \n",
        "#ndarray.dtype : tell u the datatype of the elements\n",
        "a1=np.array(1) \n",
        "a1.ndim"
      ],
      "metadata": {
        "id": "MQ9c-XAHIW-S"
      },
      "execution_count": null,
      "outputs": []
    },
    {
      "cell_type": "code",
      "source": [
        "array1 = np.array([1,2,3,4,5])\n",
        "array1.ndim"
      ],
      "metadata": {
        "id": "6Dzm4mwnJkib"
      },
      "execution_count": null,
      "outputs": []
    },
    {
      "cell_type": "code",
      "source": [
        "a2=np.array([[1,2,3],[6,7,8,9,10]])\n"
      ],
      "metadata": {
        "id": "FV5aDRn7Jr9F"
      },
      "execution_count": null,
      "outputs": []
    }, 
    {
      "cell_type": "code",
      "source": [
        "a2=np.array([[1,2,3],[6,7,8,9,10]])\n",
        "a2"
      ],
      "metadata": {
        "id": "awxwuhG8KsI_"
      },
      "execution_count": null,
      "outputs": []
    },
    {
      "cell_type": "code",
      "source": [
        "a3=np.array([[[1,2],[3,4],[5,6]]])\n",
        "a3.ndim\n",
        "a3"
      ],
      "metadata": {
        "id": "Z4kyOb2gKdpG"
      },
      "execution_count": null,
      "outputs": []
    },
    {
      "cell_type": "code",
      "source": [
        "a4 = np.arange(2,12,2)\n",
        "a4"
      ],
      "metadata": {
        "id": "fGdf4dGALjtu"
      },
      "execution_count": null,
      "outputs": []
    },
    {
      "cell_type": "code",
      "source": [
        "a5=np.linspace(2,12,6)\n",
        "a5"
      ],
      "metadata": {
        "id": "GYu_gQ03M4mM"
      },
      "execution_count": null,
      "outputs": []
    },
    {
      "cell_type": "code",
      "source": [
        "a5=np.array([(1,2,3,4),(5,6,7,8)], dtype = float)\n",
        "a5"
      ],
      "metadata": {
        "id": "W2k5RaQuOGX6"
      },
      "execution_count": null,
      "outputs": []
    },
    {
      "cell_type": "code",
      "source": [
        "type(2.3)"
      ],
      "metadata": {
        "id": "y1UyZ6NeOfa6"
      },
      "execution_count": null,
      "outputs": []
    },
    {
      "cell_type": "code",
      "source": [
        "a= np.array ([20,30,40,50])\n",
        "b= np.arange(4)\n",
        "c=a-b\n",
        "print(a)\n",
        "print(b)\n",
        "print(c)"
      ],
      "metadata": {
        "id": "Rl-3zSTTOy4g"
      },
      "execution_count": null,
      "outputs": []
    },
    {
      "cell_type": "code",
      "source": [
        "b**2"
      ],
      "metadata": {
        "id": "n0BYHGTlPQMX"
      },
      "execution_count": null,
      "outputs": []
    },
    {
      "cell_type": "code",
      "source": [
        " np.sin(a) * 100"
      ],
      "metadata": {
        "id": "JSYhHyQEPZIG"
      },
      "execution_count": null,
      "outputs": []
    },
    {
      "cell_type": "code",
      "source": [
        "a<35"
      ],
      "metadata": {
        "id": "aDkSDidcPm5T"
      },
      "execution_count": null,
      "outputs": []
    },
    {
      "cell_type": "code",
      "source": [
        "A = np.array ([[1,1],[0,1]])\n",
        "B = np.array ([[2,0],[3,4]])\n",
        "print(A)\n",
        "print(B)"
      ],
      "metadata": {
        "id": "oDOsMlJ1QKzo"
      },
      "execution_count": null,
      "outputs": []
    },
    {
      "cell_type": "code",
      "source": [
        "A * B"
      ],
      "metadata": {
        "id": "9XutSsNNQeFC"
      },
      "execution_count": null,
      "outputs": []
    },
    {
      "cell_type": "code",
      "source": [
        "A @ B"
      ],
      "metadata": {
        "id": "5O-5DHVJQuU4"
      },
      "execution_count": null,
      "outputs": []
    },
    {
      "cell_type": "code",
      "source": [
        "A.dot(B)"
      ],
      "metadata": {
        "id": "j4YFwZFcQ5JT"
      },
      "execution_count": null,
      "outputs": []
    },
    {
      "cell_type": "code",
      "source": [
        "list1 = []\n",
        "print(\"Enter 10 elements to create a NumPy array\")\n",
        "for i in range(12mm):\n",
        "    list1.append(input())\n",
        "array = np.array(list1)\n",
        "print(\"Created array is :\",array)"
      ],
      "metadata": {
        "id": "wb0E2noeVzRP"
      },
      "execution_count": null,
      "outputs": []
    },
    {
      "cell_type": "code",
      "source": [
        "array2= array . reshape(2,6)\n",
        "array2"
      ],
      "metadata": {
        "id": "UflPxC_qY3ry"
      },
      "execution_count": null,
      "outputs": []
    },
    {
      "cell_type": "code",
      "source": [
        "newarr = np.append(array2, [['3'],['4']], axis = 1)\n",
        "newarr"
      ],
      "metadata": {
        "id": "9FcMDE3-ZUA2"
      },
      "execution_count": null,
      "outputs": []
    },
    {
      "cell_type": "code",
      "source": [
        "#Append a new row\n",
        "len = newarr[0].size\n",
        "len\n",
        "list1 = []\n",
        "print(\"Enter elements to create a NumPy array\")\n",
        "for i in range(len):\n",
        "    list1.append(input())"
      ],
      "metadata": {
        "id": "ZTdvjZA1aGwu"
      },
      "execution_count": null,
      "outputs": []
    },
    {
      "cell_type": "code",
      "source": [
        "row=np.array(list1)\n",
        "newarr1 = np.append(newarr, [row], axis = 0)\n",
        "newarr1"
      ],
      "metadata": {
        "id": "hjYS2ivXcSuu"
      },
      "execution_count": null,
      "outputs": []
    },
    {
      "cell_type": "code",
      "source": [
        "# Count the number of elements along a x axis and y axis \n",
        "arr = np.array([[1, 2, 3, 4], [5, 6, 7, 8]])\n",
        "print(np.size(arr, axis =0))\n",
        "print(np.size(arr, axis =1))\n"
      ],
      "metadata": {
        "id": "bniHDHxReh5N"
      },
      "execution_count": null,
      "outputs": []
    },
    {
      "cell_type": "code",
      "source": [
        "arr = np.array([[[1, 2], [3, 4]], [[5, 6], [7, 8]]])\n",
        "print(arr.shape)\n",
        "for x in np.nditer(arr):\n",
        "  print(x)"
      ],
      "metadata": {
        "id": "2sRf2iZMhgic"
      },
      "execution_count": null,
      "outputs": []
    },
    {
      "cell_type": "code",
      "source": [
        "arr1 = np.array([1, 2, 3])\n",
        "\n",
        "arr2 = np.array([4, 5, 6])\n",
        "\n",
        "arr = np.concatenate((arr1, arr2))\n",
        "\n",
        "print(arr)"
      ],
      "metadata": {
        "id": "j78FNSW0jl2y"
      },
      "execution_count": null,
      "outputs": []
    },
    {
      "cell_type": "code",
      "source": [
        "arr1 = np.array([[1, 2], [3, 4]])\n",
        "\n",
        "arr2 = np.array([[5, 6], [7, 8]])\n",
        "\n",
        "arr = np.concatenate((arr1, arr2), axis=1)\n",
        "\n",
        "print(arr)"
      ],
      "metadata": {
        "id": "4w9AHcrdkEH6"
      },
      "execution_count": null,
      "outputs": []
    },
    {
      "cell_type": "code",
      "source": [
        "arr1 = np.array([1, 2, 3])\n",
        "arr2 = np.array([4, 5, 6])\n",
        "arr = np.stack((arr1, arr2), axis =1 )\n",
        "print(arr)"
      ],
      "metadata": {
        "id": "VhUJQTJqkr_W"
      },
      "execution_count": null,
      "outputs": []
    },
    {
      "cell_type": "code",
      "source": [
        "arr = np.vstack((arr1, arr2))\n",
        "print(arr)\n"
      ],
      "metadata": {
        "id": "BwpfVHoH0Kj_"
      },
      "execution_count": null,
      "outputs": []
    },
    {
      "cell_type": "code",
      "source": [
        "arr = np.hstack((arr1, arr2))\n",
        "print(arr)"
      ],
      "metadata": {
        "id": "_G1VECDG0MH0"
      },
      "execution_count": null,
      "outputs": []
    },
    {
      "cell_type": "code",
      "source": [
        "np.zeros((2,5))\n"
      ],
      "metadata": {
        "id": "d8mfE3gX0w2U"
      },
      "execution_count": null,
      "outputs": []
    },
    {
      "cell_type": "code",
      "source": [
        "np.ones(5, dtype = np.int32)"
      ],
      "metadata": {
        "id": "8CENNM2B0-TE"
      },
      "execution_count": null,
      "outputs": []
    },
    {
      "cell_type": "code",
      "source": [
        "a = np.array([[1,2,3],\n",
        "[4,5,6]])\n",
        "a\n",
        "b = np.transpose (a)\n",
        "b"
      ],
      "metadata": {
        "id": "VvHCYgYr1PON"
      },
      "execution_count": null,
      "outputs": []
    },
    {
      "cell_type": "code",
      "source": [
        "a = np.array([1,2,3,4,5,6])\n",
        "print(a[1:6:2])"
      ],
      "metadata": {
        "id": "PnUmR3c51lED"
      },
      "execution_count": null,
      "outputs": []
    },
    {
      "cell_type": "code",
      "source": [
        ""
      ],
      "metadata": {
        "id": "Nlvdh0kj_aiz"
      },
      "execution_count": null,
      "outputs": []
    },
    {
      "cell_type": "code",
      "source": [
        "a = np.array([[1,2,3],\n",
        "[4,5,6]])\n",
        "print(a[0,0])\n",
        "print(a[0:1,1:3 ])\n"
      ],
      "metadata": {
        "id": "Ff3qf9qM171H"
      },
      "execution_count": null,
      "outputs": []
    },
    {
      "cell_type": "code",
      "source": [
        "a = np.array([[[1,2],[3,4],[5,6]],# first axis array\n",
        "[[7,8],[9,10],[11,12]],# second axis array\n",
        "[[13,14],[15,16],[17,18]]])# third axis array\n",
        "a"
      ],
      "metadata": {
        "id": "6ibfGrwm27Fy"
      },
      "execution_count": null,
      "outputs": []
    },
    {
      "cell_type": "code",
      "source": [
        "a[1: , 0:2, 0:2].flatten()"
      ],
      "metadata": {
        "id": "ZLXkMJ2A3Fft"
      },
      "execution_count": null,
      "outputs": []
    },
    {
      "cell_type": "code",
      "source": [
        "a=np.array([[1,2,3],[4,5,6]])\n",
        "print(a)\n",
        "print(a[::-1, ::-1 ])"
      ],
      "metadata": {
        "id": "apaSO5bd5FAP"
      },
      "execution_count": null,
      "outputs": []
    },
    {
      "cell_type": "code",
      "source": [
        "a = np.array([1,2,3,4,5,6])\n",
        "print('Subtract :',a-5)\n",
        "print('Multiply :',a*5)\n",
        "print('Divide :',a/5)\n",
        "print('Power :',a**2)\n",
        "print('Remainder :',a%5)"
      ],
      "metadata": {
        "id": "Zf-WTn9_7xkQ"
      },
      "execution_count": null,
      "outputs": []
    },
    {
      "cell_type": "code",
      "source": [
        "a = np.arange(5,15,2)\n",
        "a\n",
        "print('Mean :',np.mean(a))\n",
        "print('Standard deviation :',np.std(a))\n",
        "print('Median :',np.median(a))"
      ],
      "metadata": {
        "id": "Bk88_l3M9pcK"
      },
      "execution_count": null,
      "outputs": []
    },
    {
      "cell_type": "code",
      "source": [
        "a = np.array([[1,6,5],\n",
        "[4,3,7]])\n",
        "print (np.min(a))\n",
        "\n",
        "print('Min :',np.min(a,axis=0))\n",
        "\n",
        "print('Max :',np.max(a,axis=1))"
      ],
      "metadata": {
        "id": "wHu0vAvf-E-E"
      },
      "execution_count": null,
      "outputs": []
    },
    {
      "cell_type": "code",
      "source": [
        "a = np.array([1,2,3,4,5,6])\n",
        "newarr = np.array_split(a, 3)\n",
        "newarr\n"
      ],
      "metadata": {
        "id": "SI3JUJab_cJX"
      },
      "execution_count": null,
      "outputs": []
    },
    {
      "cell_type": "code",
      "source": [
        "arr = np.array([[1, 2], [3, 4], [5, 6], [7, 8], [9, 10], [11, 12]])\n",
        "\n",
        "newarr = np.array_split(arr, 5)\n",
        "\n",
        "print(newarr)"
      ],
      "metadata": {
        "id": "4Zc2aRpkAJ_U"
      },
      "execution_count": null,
      "outputs": []
    },
    {
      "cell_type": "code",
      "source": [
        "a = np.array([1,2,3,4,5,4,4])\n",
        "x=np.where(a%2==1)\n",
        "print(x)"
      ],
      "metadata": {
        "id": "Q0_UOmGoAmjr"
      },
      "execution_count": null,
      "outputs": []
    },
    {
      "cell_type": "code",
      "source": [
        "arr = np.array([6,7,8,9])\n",
        "x= np.searchsorted(arr,10)\n",
        "x"
      ],
      "metadata": {
        "id": "4NHkV_s-BdAa"
      },
      "execution_count": null,
      "outputs": []
    },
    {
      "cell_type": "code",
      "source": [
        "a = np.array ([2,1,4,3,5,6,9,7,8])\n",
        "print(np.sort(a))"
      ],
      "metadata": {
        "id": "6uW-T1tjB3q0"
      },
      "execution_count": null,
      "outputs": []
    },
    {
      "cell_type": "code",
      "source": [
        "arr = np.array([[3, 2, 4], [5, 0, 1]])\n",
        "print(np.sort(arr))"
      ],
      "metadata": {
        "id": "xNDpvT0rCJfs"
      },
      "execution_count": null,
      "outputs": []
    },
    {
      "cell_type": "code",
      "source": [
        "#Generate a sequence of numbers in the form of a numpy array from 0 to 100 with gaps of 2 numbers, for example: 0, 2, 4 ....\n",
        "np.arange(0,100,2)\n"
      ],
      "metadata": {
        "id": "Y1PUBUaQCy19"
      },
      "execution_count": null,
      "outputs": []
    },
    {
      "cell_type": "code",
      "source": [
        "#From 2 numpy arrays, extract the indexes in which the elements in the 2 arrays match\n",
        "a=np.array([1,2,3,4])\n",
        "b=np.array([1,9,3,7])\n",
        "x=np.where(a==b)\n",
        "print(x)"
      ],
      "metadata": {
        "id": "imVENVosDBfT"
      },
      "execution_count": null,
      "outputs": []
    },
    {
      "cell_type": "code",
      "source": [
        "#Output a sequence of equally gapped 5 numbers in the range 0 to 100 (both inclusive)\n",
        "a= np.linspace(0,100,5)\n",
        "a"
      ],
      "metadata": {
        "id": "9eUkxr8XDIBB"
      },
      "execution_count": null,
      "outputs": []
    },
    {
      "cell_type": "code",
      "source": [
        "#Output a matrix (numpy array) of dimension 2-by-3 with each and every value equal to 5\n",
        "a= np. ones((2,3),dtype=int)\n",
        "a\n",
        "b= 5*a\n",
        "b"
      ],
      "metadata": {
        "id": "xalp8InzDL4X"
      },
      "execution_count": null,
      "outputs": []
    },
    {
      "cell_type": "code",
      "source": [
        "#Convert a 1-D array to a 3-D array\n",
        "a = np.arange(0,12)\n",
        "a\n",
        "b=a.reshape(2,2,3)\n",
        "b"
      ],
      "metadata": {
        "id": "KUvt0bAMDSAE"
      },
      "execution_count": null,
      "outputs": []
    },
    {
      "cell_type": "code",
      "source": [
        "#Create a 5X2 integer array from a range between 100 to 200 such that the difference between each element is 10\n",
        "a= np.arange(100,200,10)\n",
        "b=a.reshape(5,2)\n",
        "b"
      ],
      "metadata": {
        "id": "GTaXgd3fKP6Q"
      },
      "execution_count": null,
      "outputs": []
    },
    {
      "cell_type": "markdown",
      "source": [
        "Following is the provided numPy array. Return array of items by taking the third column from all rows\n",
        "\n",
        "[[11 22 33]\n",
        "\n",
        " [44 55 66]\n",
        "\n",
        " [77 88 99]]\n",
        "\n",
        "Printing array of items in the third column from all rows\n",
        "\n",
        "[33 66 99]\n"
      ],
      "metadata": {
        "id": "HPM8d442Kabm"
      }
    },
    {
      "cell_type": "code",
      "source": [
        "a=np.array([[11,22,33],[44,55,66],[77,88,99]])\n",
        "newa= a[:, 2]\n",
        "newa"
      ],
      "metadata": {
        "id": "ywCIRILlOYAo"
      },
      "execution_count": null,
      "outputs": []
    },
    {
      "cell_type": "markdown",
      "source": [
        "#Return array of odd rows and even columns from below numpy array\n",
        "\n",
        "Printing Input Array\n",
        "\n",
        "[[ 3  6  9 12]\n",
        "\n",
        " [15 18 21 24]\n",
        "\n",
        " [27 30 33 36]\n",
        "\n",
        " [39 42 45 48]\n",
        "\n",
        " [51 54 57 60]]\n",
        "\n",
        "Printing array of odd rows and even columns\n",
        "[[ 6 12]\n",
        "\n",
        " [30 36]\n",
        "\n",
        " [54 60]]"
      ],
      "metadata": {
        "id": "di2FIKFRK0Yy"
      }
    },
    {
      "cell_type": "code",
      "source": [
        "sampleArray = np.array([[3 ,6, 9, 12], [15 ,18, 21, 24], \n",
        "[27 ,30, 33, 36], [39 ,42, 45, 48], [51 ,54, 57, 60]])\n",
        "sampleArray\n",
        "newa= sampleArray[::2, 1::2]\n"
      ],
      "metadata": {
        "id": "OM3H39NYKXye"
      },
      "execution_count": null,
      "outputs": []
    },
    {
      "cell_type": "code",
      "source": [
        "# Split the array into four equal-sized sub-arrays.\n",
        "#Create an 8X3 integer array from a range between 10 to 34 such that the difference between each element is 1\n",
        "# and then Split the array into four equal-sized sub-arrays."
      ],
      "metadata": {
        "id": "lQdXSoQOUfon"
      },
      "execution_count": null,
      "outputs": []
    },
    {
      "cell_type": "markdown",
      "source": [
        "Sort following NumPy array\n",
        "\n",
        "Case 1: Sort array by the second row\n",
        "\n",
        "Case 2: Sort the array by the second column\n",
        "\n",
        "sampleArray = numpy.array([[34,43,73],[82,22,12],[53,94,66]])"
      ],
      "metadata": {
        "id": "yknSca32U2JU"
      }
    },
    {
      "cell_type": "code",
      "source": [
        "sampleArray = np.array([[34,43,73],[82,22,12],[53,94,66]]) \n",
        "sortArrayByRow = sampleArray[:,sampleArray[1,:].argsort()]\n",
        "sortArrayByRow\n",
        "\n",
        "sortArrayByColumn = sampleArray[sampleArray[:,1].argsort()]\n",
        "sortArrayByColumn"
      ],
      "metadata": {
        "colab": {
          "base_uri": "https://localhost:8080/"
        },
        "id": "ndJR-kiqXX0o",
        "outputId": "761c2e97-f9f8-4da2-e99f-badc2e6e554c"
      },
      "execution_count": 162,
      "outputs": [
        {
          "output_type": "execute_result",
          "data": {
            "text/plain": [
              "array([[82, 22, 12],\n",
              "       [34, 43, 73],\n",
              "       [53, 94, 66]])"
            ]
          },
          "metadata": {},
          "execution_count": 162
        }
      ]
    },
    {
      "cell_type": "markdown",
      "source": [
        "Delete the second column from a given array and insert the following new column in its place.\n",
        "\n",
        "[[34 43 73]\n",
        "\n",
        " [82 22 12]\n",
        "\n",
        " [53 94 66]]\n"
      ],
      "metadata": {
        "id": "WpU6pmiCU-L5"
      }
    },
    {
      "cell_type": "code",
      "source": [
        "print(\"Printing Original array\")\n",
        "sampleArray = np.array([[34,43,73],[82,22,12],[53,94,66]]) \n",
        "print (sampleArray)\n",
        "\n",
        "print(\"Array after deleting column 2 on axis 1\")\n",
        "sampleArray = np.delete(sampleArray , 1, axis = 1) \n",
        "print (sampleArray)\n",
        "\n",
        "arr = np.array([[10,10,10]])\n",
        "\n",
        "print(\"Array after inserting column 2 on axis 1\")\n",
        "sampleArray = np.insert(sampleArray , 1, arr, axis = 1) \n",
        "print (sampleArray)"
      ],
      "metadata": {
        "colab": {
          "base_uri": "https://localhost:8080/"
        },
        "id": "8yRRbh_9a96q",
        "outputId": "0839949f-8c58-4a71-a4c3-6ded98421b7d"
      },
      "execution_count": 164,
      "outputs": [
        {
          "output_type": "stream",
          "name": "stdout",
          "text": [
            "Printing Original array\n",
            "[[34 43 73]\n",
            " [82 22 12]\n",
            " [53 94 66]]\n",
            "Array after deleting column 2 on axis 1\n",
            "[[34 73]\n",
            " [82 12]\n",
            " [53 66]]\n",
            "Array after inserting column 2 on axis 1\n",
            "[[34 10 73]\n",
            " [82 10 12]\n",
            " [53 10 66]]\n"
          ]
        }
      ]
    }
  ]
}
